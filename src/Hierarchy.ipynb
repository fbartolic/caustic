{
 "cells": [
  {
   "cell_type": "markdown",
   "metadata": {},
   "source": [
    "# Hierachical fit given previous sampling"
   ]
  },
  {
   "cell_type": "markdown",
   "metadata": {},
   "source": [
    "## Loading samples"
   ]
  },
  {
   "cell_type": "code",
   "execution_count": 88,
   "metadata": {
    "scrolled": true
   },
   "outputs": [],
   "source": [
    "from random import randint\n",
    "from scipy.special import logsumexp\n",
    "from __future__ import print_function\n",
    "import matplotlib\n",
    "import matplotlib.pyplot as plt\n",
    "from pylab import subplots_adjust\n",
    "from matplotlib.ticker import MaxNLocator\n",
    "import corner\n",
    "%matplotlib inline\n",
    "import os.path\n",
    "import os\n",
    "import sys\n",
    "import pandas as pd\n",
    "import numpy as np\n",
    "#from matplotlib import gridspec"
   ]
  },
  {
   "cell_type": "code",
   "execution_count": 89,
   "metadata": {},
   "outputs": [],
   "source": [
    "def random_sample(trace):\n",
    "    ''' '''\n",
    "    size = np.shape(trace)\n",
    "    no_of_samples = size[1]\n",
    "    N = randint(number_of_samples)\n",
    "    sample_draw = trace[N,:]\n",
    "    \n",
    "    return sample_draw"
   ]
  },
  {
   "cell_type": "code",
   "execution_count": 156,
   "metadata": {},
   "outputs": [],
   "source": [
    "def load_data(data_file):\n",
    "    ''' '''\n",
    "    if os.path.exists(data_file):\n",
    "        samples = pd.read_csv(data_file) #loads trace file as numpy array\n",
    "        header = list(samples.columns.values)\n",
    "        keep = header[1:]       # getting rid of the excess indexing column from save and load processes used\n",
    "        samples = samples[keep] #\n",
    "        ## converting to a numpy array\n",
    "        samples = np.array(samples)\n",
    "        size = np.shape(samples)\n",
    "        return samples, keep\n",
    "    else:\n",
    "        return None, None"
   ]
  },
  {
   "cell_type": "code",
   "execution_count": 158,
   "metadata": {},
   "outputs": [],
   "source": [
    "def collect_trace_files(model='PointSourcePointLens'):\n",
    "    ''' '''\n",
    "    base_directory = 'output'\n",
    "    #base_directory = 'fit_data'\n",
    "    event_names = get_event_names(base_directory) #list of events names in a data directory\n",
    "    #event_names = get_event_names('fit_data')\n",
    "    i=0\n",
    "    for event in event_names: #for each of the events\n",
    "        data_file = base_directory+'/'+event+'/'+model+'/data.csv' #location of the data frame files\n",
    "        #trace_file = base_directory+'/'+event+'/'+model+'/model.pkl'\n",
    "        samples, header = load_data(data_file) #loads loads dataframe and converts to a numpy array\n",
    "        if i==0:\n",
    "            if samples is not None:\n",
    "                master_samples = np.array([samples])\n",
    "        else:\n",
    "            if samples is not None:\n",
    "                master_samples = np.vstack((master_samples,np.array([samples])))\n",
    "        i+=1\n",
    "        \n",
    "    return master_samples, header"
   ]
  },
  {
   "cell_type": "code",
   "execution_count": 151,
   "metadata": {},
   "outputs": [],
   "source": [
    "def get_event_names(data_dir):\n",
    "    output_folder = [f for f in os.listdir(data_dir) if os.path.exists(os.path.join(data_dir, f))]\n",
    "    event_nameS = []\n",
    "    for event_name in output_folder:\n",
    "        #event_name = dataset.replace('.csv','')\n",
    "        event_nameS.append(event_name)\n",
    "    #event_nameS = ['OGLE-2017-BLG-0240','OGLE-2017-BLG-0315','OGLE-2017-BLG-0375']\n",
    "    print(event_nameS)\n",
    "    #sys.exit()\n",
    "    return event_nameS"
   ]
  },
  {
   "cell_type": "markdown",
   "metadata": {},
   "source": [
    "## emcee"
   ]
  },
  {
   "cell_type": "code",
   "execution_count": 138,
   "metadata": {},
   "outputs": [],
   "source": [
    "def lndiff(theta,lnp0_x,x):\n",
    "    mu, sig = theta\n",
    "    top = -1.0*((x-mu)**2.0/sig**2.0)\n",
    "    return top-lnp0_x"
   ]
  },
  {
   "cell_type": "code",
   "execution_count": 142,
   "metadata": {},
   "outputs": [],
   "source": [
    "def lnlike(theta,lnp0_x,x):\n",
    "    ''' '''\n",
    "    #The very complicated calculation\n",
    "    #prob in likelihood becomes a sum in ln\n",
    "    #sum log diff in K direction then N direction\n",
    "    # K is the chain length\n",
    "    # N is the number of lightcurves\n",
    "    \n",
    "    diff = lndiff(theta,lnp0_x,x) \n",
    "    chain_sum = logsumexp(diff,axis=1) # *1/K\n",
    "    data_sets_sum = np.sum(chain_sum,axis=0)\n",
    "    p = 0.0 #probability of the data given nuisance parameters\n",
    "    return p + data_sets_sum\n",
    "    "
   ]
  },
  {
   "cell_type": "code",
   "execution_count": 133,
   "metadata": {},
   "outputs": [],
   "source": [
    "def lnprob(theta, lnp0_x,x):\n",
    "    lp = lnprior(theta)\n",
    "    if not np.isfinite(lp):\n",
    "        return -np.inf\n",
    "    return lp + lnlike(theta,lnp0_x,x)"
   ]
  },
  {
   "cell_type": "code",
   "execution_count": 134,
   "metadata": {},
   "outputs": [],
   "source": [
    "def lnprior(theta):\n",
    "    ''' '''\n",
    "    return 0.0"
   ]
  },
  {
   "cell_type": "code",
   "execution_count": 160,
   "metadata": {},
   "outputs": [],
   "source": [
    "def run_emcee(p0,data,x_index):\n",
    "    ''' '''\n",
    "    ndim, nwalkers = 2, 100\n",
    "    burnin = 50\n",
    "    #pos = [result[\"x\"] + 1e-4*np.random.randn(ndim) for i in range(nwalkers)]\n",
    "    lnp0_x = data[:,:,x_index+8] #3D array collapsed to a 2D array for one parameter\n",
    "    x = data[:,:,x_index] #x represents the lightcurve parameter\n",
    "    pos = [p0+1e-7*np.random.randn(ndim) for i in range(nwalkers)]\n",
    "    import emcee\n",
    "    sampler = emcee.EnsembleSampler(nwalkers, ndim, lnprob, args=(lnp0_x, x))\n",
    "    sampler.run_mcmc(pos, 500)\n",
    "    samples = sampler.chain[:, burnin:, :].reshape((-1, ndim))\n",
    "    np.save('samples.npy',samples)\n",
    "    parameter_labels = ['ln(mu)','ln(sig)']\n",
    "    plot_chain(sampler,parameter_labels)\n",
    "    plot_chain_corner(parameter_labels, samples)\n",
    "    "
   ]
  },
  {
   "cell_type": "code",
   "execution_count": 132,
   "metadata": {},
   "outputs": [],
   "source": [
    "def plot_chain(s,parameter_labels,index=None,plot_lnprob=True,suffix=''):\n",
    "    if index is None:\n",
    "        index = range(s.chain.shape[2])\n",
    "    n_plots = len(index)\n",
    "    plt.figure(figsize=(8,11))\n",
    "    subplots_adjust(hspace=0.0001)\n",
    "    for i in range(n_plots):\n",
    "        if i == 0:\n",
    "            plt.subplot(n_plots+plot_lnprob,1,i+1)\n",
    "            ax1 = plt.gca()\n",
    "        else:\n",
    "            plt.subplot(n_plots+plot_lnprob,1,i+1,sharex=ax1)\n",
    "        \n",
    "        plt.plot(s.chain[:,:,index[i]].T, '-', color='k', alpha=0.3)\n",
    "        plt.ylabel(parameter_labels[i])\n",
    "        ax = plt.gca()\n",
    "\n",
    "        if i < n_plots-1 + plot_lnprob:\n",
    "            plt.setp(ax.get_xticklabels(), visible=False)\n",
    "            ax.yaxis.set_major_locator(MaxNLocator(prune='lower'))\n",
    "            ax.locator_params(axis='y',nbins=4)\n",
    "\n",
    "    if plot_lnprob:\n",
    "        plt.subplot(n_plots+plot_lnprob,1,n_plots+plot_lnprob,sharex=ax1)\n",
    "        plt.plot(s.lnprobability.T, '-', color='r', alpha=0.3)\n",
    "        plt.ylabel(r\"$ln P$\")\n",
    "        ax = plt.gca()\n",
    "        ax.yaxis.set_major_locator(MaxNLocator(prune='lower'))\n",
    "        ax.locator_params(axis='y',nbins=4)\n",
    "\n",
    "    plt.savefig('chain'+suffix)\n",
    "    plt.close()"
   ]
  },
  {
   "cell_type": "code",
   "execution_count": 119,
   "metadata": {},
   "outputs": [],
   "source": [
    "def plot_chain_corner(parameter_labels,samples):\n",
    "    figure = corner.corner(samples,labels=parameter_labels,quantiles=[0.16, 0.5, 0.84], show_titles=True, title_args={\"fontsize\": 12})\n",
    "    figure.savefig('pdist.png')"
   ]
  },
  {
   "cell_type": "code",
   "execution_count": null,
   "metadata": {},
   "outputs": [],
   "source": []
  },
  {
   "cell_type": "code",
   "execution_count": 136,
   "metadata": {},
   "outputs": [],
   "source": [
    "def main():\n",
    "    ''' '''\n",
    "    data, header = collect_trace_files() #posterior samples for many light curves as 3D array\n",
    "    print(header)\n",
    "    p0 = (1.0,1.5) #mu and sigma guesses for tE\n",
    "    parameter_index = 4 #for tE\n",
    "    run_emcee(p0,data,parameter_index)\n",
    "    "
   ]
  },
  {
   "cell_type": "code",
   "execution_count": 161,
   "metadata": {},
   "outputs": [
    {
     "name": "stdout",
     "output_type": "stream",
     "text": [
      "['OGLE-2017-BLG-0375', 'OGLE-2017-BLG-1433', 'OGLE-2017-BLG-1611', 'OGLE-2017-BLG-0804', 'OGLE-2017-BLG-1057', 'OGLE-2017-BLG-0240', 'OGLE-2017-BLG-0938', 'OGLE-2017-BLG-1735', 'OGLE-2017-BLG-1087', '.DS_Store', 'OGLE-2017-BLG-0315']\n",
      "['Fb', 'DeltaF', 't0', 'u0', 'tE', 'm_source', 'm_blend', 'K', 'logp_DeltaF', 'logp_Fb', 'logp_t0', 'logp_u0', 'logp_tE', 'logp_K', 'log_posterior']\n"
     ]
    },
    {
     "name": "stderr",
     "output_type": "stream",
     "text": [
      "WARNING:root:Too few points to create valid contours\n"
     ]
    },
    {
     "data": {
      "image/png": "[encoded data removed]",
      "text/plain": [
       "<Figure size 396x396 with 4 Axes>"
      ]
     },
     "metadata": {
      "needs_background": "light"
     },
     "output_type": "display_data"
    }
   ],
   "source": [
    "if __name__ == '__main__':\n",
    "    main()"
   ]
  },
  {
   "cell_type": "markdown",
   "metadata": {},
   "source": [
    "## Testing"
   ]
  },
  {
   "cell_type": "code",
   "execution_count": 53,
   "metadata": {},
   "outputs": [
    {
     "name": "stdout",
     "output_type": "stream",
     "text": [
      "[[[ 1.  1.  1. 10.  1.]\n",
      "  [ 1.  1.  1. 10.  1.]]\n",
      "\n",
      " [[ 2.  2.  2. 20.  2.]\n",
      "  [ 2.  2.  2. 20.  2.]]\n",
      "\n",
      " [[ 3.  3.  3. 30.  3.]\n",
      "  [ 3.  3.  3. 30.  3.]]]\n",
      "[[10. 10.]\n",
      " [20. 20.]\n",
      " [30. 30.]]\n",
      "[10.69314718 20.69314718 30.69314718]\n"
     ]
    }
   ],
   "source": [
    "def pretend_arrays():\n",
    "    ''' '''\n",
    "    A = np.ones([2,5])\n",
    "    A[:,3] = 10.0\n",
    "    B = np.ones([2,5])*2.0\n",
    "    B[:,3] = 20.0\n",
    "    C = np.ones([2,5])*3.0\n",
    "    C[:,3] = 30.0\n",
    "\n",
    "    stack = [A,B,C]\n",
    "\n",
    "    i=0\n",
    "    for mat in stack: #find a faster way to do this\n",
    "        if i==0:\n",
    "            array3D = np.array([mat])\n",
    "        else:\n",
    "            array3D = np.vstack((array3D,np.array([mat])))\n",
    "        i+=1\n",
    "    \n",
    "    print(array3D)\n",
    "    return array3D\n",
    "\n",
    "array = pretend_arrays()\n",
    "\n",
    "col = array[:,:,3]\n",
    "print(col)\n",
    "col_sum = logsumexp(col,axis=1)\n",
    "print(col_sum)"
   ]
  },
  {
   "cell_type": "code",
   "execution_count": null,
   "metadata": {},
   "outputs": [],
   "source": [
    "\n",
    "    \n"
   ]
  },
  {
   "cell_type": "code",
   "execution_count": 54,
   "metadata": {},
   "outputs": [
    {
     "name": "stdout",
     "output_type": "stream",
     "text": [
      "10.693147180559945\n"
     ]
    }
   ],
   "source": [
    "print(np.log(np.exp(10)+np.exp(10)))\n"
   ]
  },
  {
   "cell_type": "code",
   "execution_count": null,
   "metadata": {},
   "outputs": [],
   "source": []
  }
 ],
 "metadata": {
  "kernelspec": {
   "display_name": "Python 3",
   "language": "python",
   "name": "python3"
  },
  "language_info": {
   "codemirror_mode": {
    "name": "ipython",
    "version": 3
   },
   "file_extension": ".py",
   "mimetype": "text/x-python",
   "name": "python",
   "nbconvert_exporter": "python",
   "pygments_lexer": "ipython3",
   "version": "3.6.3"
  }
 },
 "nbformat": 4,
 "nbformat_minor": 2
}
