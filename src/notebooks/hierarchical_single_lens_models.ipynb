{
 "cells": [
  {
   "cell_type": "code",
   "execution_count": 22,
   "metadata": {},
   "outputs": [
    {
     "name": "stdout",
     "output_type": "stream",
     "text": [
      "Loaded events: ['blg-0305', 'blg-0089', 'blg-1403', 'blg-0642', 'blg-0717', 'blg-0055', 'blg-0058', 'blg-1507', 'blg-1261', 'blg-1390', 'blg-1159', 'blg-0444', 'blg-0919', 'blg-1273', 'blg-1360', 'blg-0931', 'blg-1660', 'blg-1183', 'blg-0047', 'blg-0237', 'blg-0024', 'blg-0327', 'blg-1114', 'blg-0193', 'blg-0559', 'blg-0885', 'blg-0508', 'blg-0370', 'blg-0154', 'blg-0899', 'blg-0683', 'blg-1346', 'blg-0577', 'blg-0690', 'blg-0078', 'blg-1544', 'blg-1776', 'blg-0405', 'blg-1647', 'blg-0852', 'blg-0388', 'blg-0383', 'blg-1109', 'blg-0599', 'blg-1097', 'blg-1072', 'blg-0113', 'blg-0826', 'blg-0873', 'blg-1536', 'blg-1746', 'blg-0729', 'blg-1702', 'blg-1549', 'blg-1060', 'blg-0726', 'blg-1774', 'blg-0403', 'blg-1666', 'blg-1468', 'blg-0967', 'blg-0432', 'blg-1768', 'blg-0828', 'blg-0167', 'blg-1620', 'blg-0814', 'blg-0028', 'blg-1220', 'blg-0260', 'blg-1440', 'blg-1327', 'blg-0580', 'blg-0784', 'blg-0076', 'blg-1673', 'blg-0141', 'blg-0864', 'blg-0358', 'blg-0155', 'blg-0734', 'blg-1691', 'blg-0261', 'blg-0917', 'blg-0470', 'blg-0492', 'blg-1194', 'blg-0277', 'blg-1742', 'blg-0499', 'blg-1828', 'blg-1125', 'blg-0173', 'blg-1663', 'blg-1149', 'blg-1581', 'blg-0792', 'blg-1071', 'blg-0269', 'blg-0324']\n",
      "Max length:  4530\n"
     ]
    }
   ],
   "source": [
    "import numpy as np\n",
    "from matplotlib import pyplot as plt\n",
    "import matplotlib as mpl\n",
    "import scipy\n",
    "import corner\n",
    "import pymc3 as pm\n",
    "import theano\n",
    "import theano.tensor as T\n",
    "import seaborn as sns\n",
    "import os\n",
    "import sys\n",
    "sys.path.append('../codebase')\n",
    "from data_preprocessing_ogle import process_data\n",
    "from plotting_utils import plot_data\n",
    "\n",
    "mpl.rc('font',**{'family':'serif','serif':['Palatino']})\n",
    "mpl.rc('text', usetex=False)\n",
    "mpl.rcParams['axes.labelsize'] = 20\n",
    "mpl.rcParams['xtick.labelsize'] = 20\n",
    "mpl.rcParams['ytick.labelsize'] = 20\n",
    "mpl.rcParams['axes.titlesize'] = 16\n",
    "\n",
    "events = [] # event names\n",
    "lightcurves = [] # data for each event\n",
    " \n",
    "i = 0\n",
    "n_events = 100\n",
    "max_length = 0\n",
    "lengths = np.zeros(n_events, dtype=int)\n",
    "\n",
    "for entry in os.scandir('../../../../data/OGLE_ews/2017/'):\n",
    "    if entry.is_dir() and (i < n_events):\n",
    "        events.append(entry.name)\n",
    "        photometry = np.genfromtxt(entry.path + '/phot.dat', usecols=(0,1,2))\n",
    "        lightcurves.append(photometry)\n",
    "        if (len(photometry) > max_length):\n",
    "            max_length = len(photometry)\n",
    "        lengths[i] = len(photometry)\n",
    "        i = i + 1\n",
    "        \n",
    "print(\"Loaded events:\", events)\n",
    "print(\"Max length: \", max_length)"
   ]
  },
  {
   "cell_type": "code",
   "execution_count": 24,
   "metadata": {},
   "outputs": [],
   "source": [
    "# Collect all lightcurves into a single large numpy array\n",
    "lcrvs_t = np.zeros((len(lightcurves), max_length))\n",
    "lcrvs_F = np.zeros((len(lightcurves), max_length))\n",
    "lcrvs_sigF = np.zeros((len(lightcurves), max_length))\n",
    "\n",
    "for i, lc in enumerate(lightcurves):\n",
    "    lcrvs_t[i, :len(lightcurves[i][:, 0])] = lightcurves[i][:, 0]\n",
    "    lcrvs_F[i, :len(lightcurves[i][:, 0])] = lightcurves[i][:, 1]\n",
    "    lcrvs_sigF[i, :len(lightcurves[i][:, 0])] = lightcurves[i][:, 2]\n",
    "    \n",
    "# Convert numpy arrays to theano tensors\n",
    "lcrvs_t = T.cast(lightcurves_t, 'float64')\n",
    "lcrvs_F = T.cast(lightcurves_F, 'float64')\n",
    "lcrvs_sigF = T.cast(lightcurves_sigF, 'float64')\n",
    "lengths = T.cast(lengths, 'int32')"
   ]
  },
  {
   "cell_type": "code",
   "execution_count": 26,
   "metadata": {},
   "outputs": [
    {
     "ename": "ValueError",
     "evalue": "Input dimension mis-match. (input[0].shape[1] = 4530, input[1].shape[1] = 100)",
     "output_type": "error",
     "traceback": [
      "\u001b[0;31m---------------------------------------------------------------------------\u001b[0m",
      "\u001b[0;31mValueError\u001b[0m                                Traceback (most recent call last)",
      "\u001b[0;32m<ipython-input-26-ad136e357ee4>\u001b[0m in \u001b[0;36m<module>\u001b[0;34m()\u001b[0m\n\u001b[1;32m     28\u001b[0m     \u001b[0;31m# Mean model\u001b[0m\u001b[0;34m\u001b[0m\u001b[0;34m\u001b[0m\u001b[0m\n\u001b[1;32m     29\u001b[0m     \u001b[0mu0\u001b[0m \u001b[0;34m=\u001b[0m \u001b[0mteff\u001b[0m\u001b[0;34m/\u001b[0m\u001b[0mtE\u001b[0m\u001b[0;34m\u001b[0m\u001b[0m\n\u001b[0;32m---> 30\u001b[0;31m     \u001b[0mu\u001b[0m \u001b[0;34m=\u001b[0m \u001b[0mT\u001b[0m\u001b[0;34m.\u001b[0m\u001b[0msqrt\u001b[0m\u001b[0;34m(\u001b[0m\u001b[0mu0\u001b[0m\u001b[0;34m**\u001b[0m\u001b[0;36m2\u001b[0m \u001b[0;34m+\u001b[0m \u001b[0;34m(\u001b[0m\u001b[0;34m(\u001b[0m\u001b[0mlcrvs_t\u001b[0m \u001b[0;34m-\u001b[0m \u001b[0mt0\u001b[0m\u001b[0;34m)\u001b[0m\u001b[0;34m/\u001b[0m\u001b[0mtE\u001b[0m\u001b[0;34m)\u001b[0m\u001b[0;34m**\u001b[0m\u001b[0;36m2\u001b[0m\u001b[0;34m)\u001b[0m\u001b[0;34m\u001b[0m\u001b[0m\n\u001b[0m\u001b[1;32m     31\u001b[0m     \u001b[0mA\u001b[0m \u001b[0;34m=\u001b[0m \u001b[0;32mlambda\u001b[0m \u001b[0mu\u001b[0m\u001b[0;34m:\u001b[0m \u001b[0;34m(\u001b[0m\u001b[0mu\u001b[0m\u001b[0;34m**\u001b[0m\u001b[0;36m2\u001b[0m \u001b[0;34m+\u001b[0m \u001b[0;36m2\u001b[0m\u001b[0;34m)\u001b[0m\u001b[0;34m/\u001b[0m\u001b[0;34m(\u001b[0m\u001b[0mu\u001b[0m\u001b[0;34m*\u001b[0m\u001b[0mT\u001b[0m\u001b[0;34m.\u001b[0m\u001b[0msqrt\u001b[0m\u001b[0;34m(\u001b[0m\u001b[0mu\u001b[0m\u001b[0;34m**\u001b[0m\u001b[0;36m2\u001b[0m \u001b[0;34m+\u001b[0m \u001b[0;36m4\u001b[0m\u001b[0;34m)\u001b[0m\u001b[0;34m)\u001b[0m\u001b[0;34m\u001b[0m\u001b[0m\n\u001b[1;32m     32\u001b[0m \u001b[0;34m\u001b[0m\u001b[0m\n",
      "\u001b[0;32m~/anaconda3/lib/python3.6/site-packages/theano/tensor/var.py\u001b[0m in \u001b[0;36m__sub__\u001b[0;34m(self, other)\u001b[0m\n\u001b[1;32m    145\u001b[0m         \u001b[0;31m# and the return value in that case\u001b[0m\u001b[0;34m\u001b[0m\u001b[0;34m\u001b[0m\u001b[0m\n\u001b[1;32m    146\u001b[0m         \u001b[0;32mtry\u001b[0m\u001b[0;34m:\u001b[0m\u001b[0;34m\u001b[0m\u001b[0m\n\u001b[0;32m--> 147\u001b[0;31m             \u001b[0;32mreturn\u001b[0m \u001b[0mtheano\u001b[0m\u001b[0;34m.\u001b[0m\u001b[0mtensor\u001b[0m\u001b[0;34m.\u001b[0m\u001b[0mbasic\u001b[0m\u001b[0;34m.\u001b[0m\u001b[0msub\u001b[0m\u001b[0;34m(\u001b[0m\u001b[0mself\u001b[0m\u001b[0;34m,\u001b[0m \u001b[0mother\u001b[0m\u001b[0;34m)\u001b[0m\u001b[0;34m\u001b[0m\u001b[0m\n\u001b[0m\u001b[1;32m    148\u001b[0m         \u001b[0;32mexcept\u001b[0m \u001b[0;34m(\u001b[0m\u001b[0mNotImplementedError\u001b[0m\u001b[0;34m,\u001b[0m \u001b[0mAsTensorError\u001b[0m\u001b[0;34m)\u001b[0m\u001b[0;34m:\u001b[0m\u001b[0;34m\u001b[0m\u001b[0m\n\u001b[1;32m    149\u001b[0m             \u001b[0;32mreturn\u001b[0m \u001b[0mNotImplemented\u001b[0m\u001b[0;34m\u001b[0m\u001b[0m\n",
      "\u001b[0;32m~/anaconda3/lib/python3.6/site-packages/theano/gof/op.py\u001b[0m in \u001b[0;36m__call__\u001b[0;34m(self, *inputs, **kwargs)\u001b[0m\n\u001b[1;32m    672\u001b[0m                 \u001b[0mthunk\u001b[0m\u001b[0;34m.\u001b[0m\u001b[0moutputs\u001b[0m \u001b[0;34m=\u001b[0m \u001b[0;34m[\u001b[0m\u001b[0mstorage_map\u001b[0m\u001b[0;34m[\u001b[0m\u001b[0mv\u001b[0m\u001b[0;34m]\u001b[0m \u001b[0;32mfor\u001b[0m \u001b[0mv\u001b[0m \u001b[0;32min\u001b[0m \u001b[0mnode\u001b[0m\u001b[0;34m.\u001b[0m\u001b[0moutputs\u001b[0m\u001b[0;34m]\u001b[0m\u001b[0;34m\u001b[0m\u001b[0m\n\u001b[1;32m    673\u001b[0m \u001b[0;34m\u001b[0m\u001b[0m\n\u001b[0;32m--> 674\u001b[0;31m                 \u001b[0mrequired\u001b[0m \u001b[0;34m=\u001b[0m \u001b[0mthunk\u001b[0m\u001b[0;34m(\u001b[0m\u001b[0;34m)\u001b[0m\u001b[0;34m\u001b[0m\u001b[0m\n\u001b[0m\u001b[1;32m    675\u001b[0m                 \u001b[0;32massert\u001b[0m \u001b[0;32mnot\u001b[0m \u001b[0mrequired\u001b[0m  \u001b[0;31m# We provided all inputs\u001b[0m\u001b[0;34m\u001b[0m\u001b[0m\n\u001b[1;32m    676\u001b[0m \u001b[0;34m\u001b[0m\u001b[0m\n",
      "\u001b[0;32m~/anaconda3/lib/python3.6/site-packages/theano/gof/op.py\u001b[0m in \u001b[0;36mrval\u001b[0;34m()\u001b[0m\n\u001b[1;32m    860\u001b[0m \u001b[0;34m\u001b[0m\u001b[0m\n\u001b[1;32m    861\u001b[0m         \u001b[0;32mdef\u001b[0m \u001b[0mrval\u001b[0m\u001b[0;34m(\u001b[0m\u001b[0;34m)\u001b[0m\u001b[0;34m:\u001b[0m\u001b[0;34m\u001b[0m\u001b[0m\n\u001b[0;32m--> 862\u001b[0;31m             \u001b[0mthunk\u001b[0m\u001b[0;34m(\u001b[0m\u001b[0;34m)\u001b[0m\u001b[0;34m\u001b[0m\u001b[0m\n\u001b[0m\u001b[1;32m    863\u001b[0m             \u001b[0;32mfor\u001b[0m \u001b[0mo\u001b[0m \u001b[0;32min\u001b[0m \u001b[0mnode\u001b[0m\u001b[0;34m.\u001b[0m\u001b[0moutputs\u001b[0m\u001b[0;34m:\u001b[0m\u001b[0;34m\u001b[0m\u001b[0m\n\u001b[1;32m    864\u001b[0m                 \u001b[0mcompute_map\u001b[0m\u001b[0;34m[\u001b[0m\u001b[0mo\u001b[0m\u001b[0;34m]\u001b[0m\u001b[0;34m[\u001b[0m\u001b[0;36m0\u001b[0m\u001b[0;34m]\u001b[0m \u001b[0;34m=\u001b[0m \u001b[0;32mTrue\u001b[0m\u001b[0;34m\u001b[0m\u001b[0m\n",
      "\u001b[0;32m~/anaconda3/lib/python3.6/site-packages/theano/gof/cc.py\u001b[0m in \u001b[0;36m__call__\u001b[0;34m(self)\u001b[0m\n\u001b[1;32m   1733\u001b[0m                 \u001b[0mprint\u001b[0m\u001b[0;34m(\u001b[0m\u001b[0mself\u001b[0m\u001b[0;34m.\u001b[0m\u001b[0merror_storage\u001b[0m\u001b[0;34m,\u001b[0m \u001b[0mfile\u001b[0m\u001b[0;34m=\u001b[0m\u001b[0msys\u001b[0m\u001b[0;34m.\u001b[0m\u001b[0mstderr\u001b[0m\u001b[0;34m)\u001b[0m\u001b[0;34m\u001b[0m\u001b[0m\n\u001b[1;32m   1734\u001b[0m                 \u001b[0;32mraise\u001b[0m\u001b[0;34m\u001b[0m\u001b[0m\n\u001b[0;32m-> 1735\u001b[0;31m             \u001b[0mreraise\u001b[0m\u001b[0;34m(\u001b[0m\u001b[0mexc_type\u001b[0m\u001b[0;34m,\u001b[0m \u001b[0mexc_value\u001b[0m\u001b[0;34m,\u001b[0m \u001b[0mexc_trace\u001b[0m\u001b[0;34m)\u001b[0m\u001b[0;34m\u001b[0m\u001b[0m\n\u001b[0m\u001b[1;32m   1736\u001b[0m \u001b[0;34m\u001b[0m\u001b[0m\n\u001b[1;32m   1737\u001b[0m \u001b[0;34m\u001b[0m\u001b[0m\n",
      "\u001b[0;32m~/anaconda3/lib/python3.6/site-packages/six.py\u001b[0m in \u001b[0;36mreraise\u001b[0;34m(tp, value, tb)\u001b[0m\n\u001b[1;32m    691\u001b[0m             \u001b[0;32mif\u001b[0m \u001b[0mvalue\u001b[0m\u001b[0;34m.\u001b[0m\u001b[0m__traceback__\u001b[0m \u001b[0;32mis\u001b[0m \u001b[0;32mnot\u001b[0m \u001b[0mtb\u001b[0m\u001b[0;34m:\u001b[0m\u001b[0;34m\u001b[0m\u001b[0m\n\u001b[1;32m    692\u001b[0m                 \u001b[0;32mraise\u001b[0m \u001b[0mvalue\u001b[0m\u001b[0;34m.\u001b[0m\u001b[0mwith_traceback\u001b[0m\u001b[0;34m(\u001b[0m\u001b[0mtb\u001b[0m\u001b[0;34m)\u001b[0m\u001b[0;34m\u001b[0m\u001b[0m\n\u001b[0;32m--> 693\u001b[0;31m             \u001b[0;32mraise\u001b[0m \u001b[0mvalue\u001b[0m\u001b[0;34m\u001b[0m\u001b[0m\n\u001b[0m\u001b[1;32m    694\u001b[0m         \u001b[0;32mfinally\u001b[0m\u001b[0;34m:\u001b[0m\u001b[0;34m\u001b[0m\u001b[0m\n\u001b[1;32m    695\u001b[0m             \u001b[0mvalue\u001b[0m \u001b[0;34m=\u001b[0m \u001b[0;32mNone\u001b[0m\u001b[0;34m\u001b[0m\u001b[0m\n",
      "\u001b[0;31mValueError\u001b[0m: Input dimension mis-match. (input[0].shape[1] = 4530, input[1].shape[1] = 100)"
     ]
    }
   ],
   "source": [
    "model = pm.Model()\n",
    "\n",
    "with model:    \n",
    "    n_population = len(lightcurves)\n",
    "    \n",
    "    BoundedNormal = pm.Bound(pm.Normal, lower=0.0) # Half-Normal dist\n",
    "\n",
    "    # Hyperpriors\n",
    "    mu_tE = BoundedNormal('mu_tE', mu=100, sd=200.)\n",
    "    sig_tE = BoundedNormal('sig_tE', mu=20, sd=100.)\n",
    "        \n",
    "    # Priors \n",
    "    tE = pm.Lognormal('tE', mu=mu_tE, sd=sig_tE, shape=n_population)\n",
    "    DeltaF = BoundedNormal('DeltaF', mu=[np.max(lc[:, 1]) for lc in lightcurves], \n",
    "                           sd=1., shape=n_population)\n",
    "    Fb = pm.Normal('Fb', mu=0., sd=0.1, shape=n_population)\n",
    "    t0 = pm.Uniform('t0', [np.min(lc[:, 0]) for lc in lightcurves], \n",
    "                    [np.max(lc[:, 0]) for lc in lightcurves], shape=n_population)\n",
    "    # p(teff|tE)\n",
    "    def conditional_prior(value):\n",
    "        teff = T.cast(value, 'float64')\n",
    "        return -T.log(tE) - (teff/tE)**2/1**2 \n",
    "    \n",
    "    teff = pm.DensityDist('teff', conditional_prior, shape=n_population)\n",
    "    \n",
    "    # Likelihood \n",
    "    def ln_likelihood(lightcurves):\n",
    "        lnL = T.cast(0., 'float64')\n",
    "        \n",
    "        # We can't just write a for loop, we have to use Theano scan\n",
    "        \n",
    "        n = T.iscalar(\"n\")\n",
    "        mu_F = T.isvector(\"mu_F\")\n",
    "        \n",
    "        def ln_likelihood_single(n):\n",
    "            lightcurve = T.cast(lightcurves[n], 'float64')\n",
    "            t = lightcurve[:, 0]\n",
    "            F = lightcurve[:, 1]\n",
    "            sig_F = lightcurve[:, 2]\n",
    "        \n",
    "            # Mean model\n",
    "            u0 = teff/tE\n",
    "            u = T.sqrt(u0[n]**2 + ((t - t0[n])/tE[n])**2)\n",
    "            A = lambda u: (u**2 + 2)/(u*T.sqrt(u**2 + 4))\n",
    "\n",
    "            mu_F = DeltaF[n]*(A(u) - 1)/(A(u0[n]) - 1) + Fb[n]\n",
    "            \n",
    "            # Gaussian likelihood\n",
    "            return T.sum((-(mu_F - F)**2/sig_F**2))\n",
    "        \n",
    "        \n",
    "        # Symbolic description of the result\n",
    "        result, updates = theano.scan(fn=ln_likelihood_single,\n",
    "                              n_steps=n_population,\n",
    "                              outputs_info=T.ones_like(n_pop),)\n",
    "        \n",
    "        return lnL\n",
    "    \n",
    "    likelihood = pm.DensityDist('likelihood', ln_likelihood, observed={'lightcurves':lightcurves})\n",
    "\n",
    "model.check_test_point()\n",
    "model.vars"
   ]
  },
  {
   "cell_type": "code",
   "execution_count": null,
   "metadata": {},
   "outputs": [],
   "source": [
    "pm.model_to_graphviz(model1)"
   ]
  },
  {
   "cell_type": "code",
   "execution_count": null,
   "metadata": {},
   "outputs": [],
   "source": []
  }
 ],
 "metadata": {
  "kernelspec": {
   "display_name": "Python 3",
   "language": "python",
   "name": "python3"
  },
  "language_info": {
   "codemirror_mode": {
    "name": "ipython",
    "version": 3
   },
   "file_extension": ".py",
   "mimetype": "text/x-python",
   "name": "python",
   "nbconvert_exporter": "python",
   "pygments_lexer": "ipython3",
   "version": "3.6.5"
  }
 },
 "nbformat": 4,
 "nbformat_minor": 2
}
