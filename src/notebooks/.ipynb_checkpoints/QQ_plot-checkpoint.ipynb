{
 "cells": [
  {
   "cell_type": "code",
   "execution_count": null,
   "metadata": {},
   "outputs": [],
   "source": [
    "import numpy as np\n",
    "from matplotlib import pyplot as plt\n",
    "import matplotlib as mpl\n",
    "import pandas as pd\n",
    "\n",
    "mpl.rc('text', usetex=True)\n",
    "mpl.rcParams['axes.labelsize'] = 20\n",
    "mpl.rcParams['xtick.labelsize'] = 20\n",
    "mpl.rcParams['ytick.labelsize'] = 20\n",
    "mpl.rcParams['axes.titlesize'] = 20\n",
    "\n",
    "%matplotlib inline\n",
    "\n",
    "# Better looking figures\n",
    "%config InlineBackend.figure_format = 'retina'"
   ]
  },
  {
   "cell_type": "code",
   "execution_count": null,
   "metadata": {},
   "outputs": [],
   "source": [
    "# Load residual and fitted values\n",
    "residuals = np.load(\"../output/blg-0305/residual_values.npy\")\n",
    "fitted = np.load(\"../output/blg-0305/fitted_values.npy\")\n",
    "sigF = np.load(\"../output/blg-0305/sigF.npy\")\n",
    "\n",
    "# Normalize residuals\n",
    "residuals = residuals/np.std(residuals)"
   ]
  },
  {
   "cell_type": "code",
   "execution_count": null,
   "metadata": {},
   "outputs": [],
   "source": [
    "fig, ax = plt.subplots()\n",
    "\n",
    "modeled_residuals = lambda: np.random.multivariate_normal(np.zeros(len(sigF)), cov=np.diag(np.ones(len(sigF))))\n",
    "\n",
    "# ax.scatter(fitted, residuals)\n",
    "ax.hist(residuals, normed=True, alpha=0.7)\n",
    "ax.hist(modeled_residuals(), normed=True, color='C1', alpha=0.7)"
   ]
  },
  {
   "cell_type": "code",
   "execution_count": null,
   "metadata": {},
   "outputs": [],
   "source": [
    "fig, ax = plt.subplots(figsize=(6,6))\n",
    "\n",
    "percentiles = np.linspace(0, 100, 500)\n",
    "quantile_residuals = np.percentile(residuals, percentiles)\n",
    "quantile_model = np.percentile(np.normal(size=1000))\n",
    "\n",
    "ax.scatter(quantile_model, quantile_residuals, marker='o', color='grey', alpha=0.8)\n",
    "ax.grid()\n",
    "x = np.linspace(quantile_model[0], quantile_model[-1])\n",
    "ax.plot(x, x, color='black', linestyle='dawwshed', alpha=0.6)\n",
    "ax.set_aspect(1)\n",
    "# ax.set_xlim(-1.5, 1.5)\n",
    "# ax.set_ylim(-1.5, 1.5)\n",
    "ax.set_xlabel(\"Modeled residuals\")\n",
    "ax.set_ylabel(\"Measured residuals\")"
   ]
  },
  {
   "cell_type": "code",
   "execution_count": null,
   "metadata": {},
   "outputs": [],
   "source": []
  }
 ],
 "metadata": {
  "kernelspec": {
   "display_name": "Python 3",
   "language": "python",
   "name": "python3"
  },
  "language_info": {
   "codemirror_mode": {
    "name": "ipython",
    "version": 3
   },
   "file_extension": ".py",
   "mimetype": "text/x-python",
   "name": "python",
   "nbconvert_exporter": "python",
   "pygments_lexer": "ipython3",
   "version": "3.7.0"
  }
 },
 "nbformat": 4,
 "nbformat_minor": 2
}
