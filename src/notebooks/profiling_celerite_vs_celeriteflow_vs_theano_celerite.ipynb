{
 "cells": [
  {
   "cell_type": "code",
   "execution_count": 1,
   "metadata": {},
   "outputs": [],
   "source": [
    "%matplotlib inline\n",
    "import theano\n",
    "import theano.tensor as tt\n",
    "\n",
    "import numpy as np\n",
    "import matplotlib.pyplot as plt\n",
    "\n",
    "import sys\n",
    "sys.path.append(\"../theano_ops\")\n",
    "from theano_ops.celerite.factor import FactorOp\n",
    "from theano_ops.celerite.solve import SolveOp\n",
    "from theano_ops.celerite import terms\n",
    "from theano_ops.celerite.celerite import log_likelihood\n",
    "\n",
    "import time"
   ]
  },
  {
   "cell_type": "markdown",
   "metadata": {},
   "source": [
    "## Generate data"
   ]
  },
  {
   "cell_type": "code",
   "execution_count": 2,
   "metadata": {},
   "outputs": [
    {
     "data": {
      "text/plain": [
       "[<matplotlib.lines.Line2D at 0x14a77bf07e10>]"
      ]
     },
     "execution_count": 2,
     "metadata": {},
     "output_type": "execute_result"
    },
    {
     "data": {
      "image/png": "[encoded data removed]",
      "text/plain": [
       "<Figure size 432x288 with 1 Axes>"
      ]
     },
     "metadata": {
      "needs_background": "light"
     },
     "output_type": "display_data"
    }
   ],
   "source": [
    "from celerite.modeling import Model\n",
    "\n",
    "# Define the celerite model for mock data, generated from a RealTerm gp kernel\n",
    "class MeanModel(Model):\n",
    "    parameter_names = (\"alpha\", \"ell\", \"log_sigma2\")\n",
    "\n",
    "    def get_value(self, t):\n",
    "        return self.alpha * np.exp(-0.5*(t-self.ell)**2 * np.exp(-self.log_sigma2))\n",
    "\n",
    "    # This method is optional but it can be used to compute the gradient of the\n",
    "    # cost function below.\n",
    "    def compute_gradient(self, t):\n",
    "        e = 0.5*(t-self.ell)**2 * np.exp(-self.log_sigma2)\n",
    "        dalpha = np.exp(-e)\n",
    "        dell = self.alpha * dalpha * (t-self.ell) * np.exp(-self.log_sigma2)\n",
    "        dlog_s2 = self.alpha * dalpha * e\n",
    "        return np.array([dalpha, dell, dlog_s2])\n",
    "\n",
    "mean_model = MeanModel(alpha=-1.0, ell=0.1, log_sigma2=np.log(0.8))\n",
    "\n",
    "N = 1000\n",
    "\n",
    "x_np = np.sort(np.random.uniform(-5, 5, N))\n",
    "diag_np = np.random.uniform(0.05, 0.1, len(x_np))\n",
    "\n",
    "K = 0.1*np.exp(-0.5*(x_np[:, None] - x_np[None, :])**2/10.5)\n",
    "K[np.diag_indices(len(x_np))] += diag_np**2\n",
    "y_np = np.random.multivariate_normal(mean_model.get_value(x_np), K)\n",
    "\n",
    "plt.plot(x_np, y_np, '.')"
   ]
  },
  {
   "cell_type": "markdown",
   "metadata": {},
   "source": [
    "## Celerite via theano "
   ]
  },
  {
   "cell_type": "code",
   "execution_count": 3,
   "metadata": {},
   "outputs": [],
   "source": [
    "diag = tt._shared(diag_np**2)\n",
    "x = tt._shared(x_np)\n",
    "y = tt._shared(y_np)\n",
    "\n",
    "# Initialize celerite_theano kernel\n",
    "sigma = tt.dscalar('S0')\n",
    "rho = tt.dscalar('w0')\n",
    "\n",
    "kernel = terms.Matern32Term(sigma=sigma, rho=rho)"
   ]
  },
  {
   "cell_type": "code",
   "execution_count": 4,
   "metadata": {},
   "outputs": [],
   "source": [
    "loglike_theano = log_likelihood(kernel, 0., diag, x, y)\n",
    "\n",
    "# Likelihood\n",
    "f = theano.function(inputs=[sigma, rho], outputs=loglike_theano, on_unused_input=\"ignore\")\n",
    "# Gradients\n",
    "g = theano.function(inputs=[sigma, rho], outputs=theano.grad(loglike_theano, [sigma, rho]), on_unused_input=\"ignore\")"
   ]
  },
  {
   "cell_type": "code",
   "execution_count": 5,
   "metadata": {},
   "outputs": [
    {
     "data": {
      "text/plain": [
       "array(1141.86884221)"
      ]
     },
     "execution_count": 5,
     "metadata": {},
     "output_type": "execute_result"
    }
   ],
   "source": [
    "f(0.5, 2.)"
   ]
  },
  {
   "cell_type": "code",
   "execution_count": 6,
   "metadata": {},
   "outputs": [
    {
     "data": {
      "text/plain": [
       "[array(-42.98490658), array(14.23024272)]"
      ]
     },
     "execution_count": 6,
     "metadata": {},
     "output_type": "execute_result"
    }
   ],
   "source": [
    "g(0.5, 2.)"
   ]
  },
  {
   "cell_type": "code",
   "execution_count": 7,
   "metadata": {},
   "outputs": [
    {
     "name": "stdout",
     "output_type": "stream",
     "text": [
      "308 µs ± 5.62 µs per loop (mean ± std. dev. of 7 runs, 1000 loops each)\n"
     ]
    }
   ],
   "source": [
    "%timeit f(0.5, 2.)"
   ]
  },
  {
   "cell_type": "code",
   "execution_count": 8,
   "metadata": {},
   "outputs": [
    {
     "name": "stdout",
     "output_type": "stream",
     "text": [
      "687 µs ± 4.06 µs per loop (mean ± std. dev. of 7 runs, 1000 loops each)\n"
     ]
    }
   ],
   "source": [
    "%timeit g(0.5, 2.)"
   ]
  },
  {
   "cell_type": "markdown",
   "metadata": {},
   "source": [
    "## Celerite via tensorflow "
   ]
  },
  {
   "cell_type": "code",
   "execution_count": 9,
   "metadata": {},
   "outputs": [],
   "source": [
    "import tensorflow as tf\n",
    "session = tf.get_default_session()\n",
    "if session is None:\n",
    "    session = tf.InteractiveSession()\n",
    "\n",
    "import celeriteflow as cf"
   ]
  },
  {
   "cell_type": "code",
   "execution_count": 10,
   "metadata": {},
   "outputs": [],
   "source": [
    "T = tf.float64\n",
    "\n",
    "x_tf = tf.constant(x_np)\n",
    "diag_tf = tf.constant(diag_np**2)\n",
    "y_tf = tf.constant(y_np)\n",
    "\n",
    "sigma_tf = tf.Variable(0.5, dtype=T)\n",
    "rho_tf = tf.Variable(2., dtype=T)\n",
    "\n",
    "session.run(tf.global_variables_initializer())\n",
    "\n",
    "kernel_tf = cf.terms.Matern32Term(sigma=sigma_tf, rho=rho_tf)\n",
    "\n",
    "gp_tf = cf.GaussianProcess(kernel_tf, x_tf, y_tf, diag_tf)\n",
    "loglike_tf = gp_tf.log_likelihood\n",
    "grad_loglike_tf = tf.gradients(loglike_tf, [sigma_tf, rho_tf])"
   ]
  },
  {
   "cell_type": "code",
   "execution_count": 11,
   "metadata": {},
   "outputs": [
    {
     "data": {
      "text/plain": [
       "1141.868842206071"
      ]
     },
     "execution_count": 11,
     "metadata": {},
     "output_type": "execute_result"
    }
   ],
   "source": [
    "loglike_tf.eval()\n",
    "\n",
    "# loglike_tf.eval({S0_tf:1.2, w0_tf:5.4, Q_tf:5.})\n",
    "\n",
    "# for i in range(10):"
   ]
  },
  {
   "cell_type": "code",
   "execution_count": 12,
   "metadata": {},
   "outputs": [
    {
     "data": {
      "text/plain": [
       "[-42.98490658085617, 14.230242724781215]"
      ]
     },
     "execution_count": 12,
     "metadata": {},
     "output_type": "execute_result"
    }
   ],
   "source": [
    "tf.get_default_session().run(grad_loglike_tf)"
   ]
  },
  {
   "cell_type": "code",
   "execution_count": 13,
   "metadata": {},
   "outputs": [
    {
     "name": "stdout",
     "output_type": "stream",
     "text": [
      "1.04 ms ± 82.9 µs per loop (mean ± std. dev. of 7 runs, 1000 loops each)\n"
     ]
    }
   ],
   "source": [
    "%timeit loglike_tf.eval()"
   ]
  },
  {
   "cell_type": "code",
   "execution_count": 14,
   "metadata": {},
   "outputs": [
    {
     "name": "stdout",
     "output_type": "stream",
     "text": [
      "2.89 ms ± 244 µs per loop (mean ± std. dev. of 7 runs, 100 loops each)\n"
     ]
    }
   ],
   "source": [
    "%timeit  tf.get_default_session().run(grad_loglike_tf)"
   ]
  },
  {
   "cell_type": "markdown",
   "metadata": {},
   "source": [
    "## Plain celerite"
   ]
  },
  {
   "cell_type": "code",
   "execution_count": 15,
   "metadata": {},
   "outputs": [
    {
     "data": {
      "text/plain": [
       "1141.8688422060895"
      ]
     },
     "execution_count": 15,
     "metadata": {},
     "output_type": "execute_result"
    }
   ],
   "source": [
    "import celerite\n",
    "from celerite import terms\n",
    "\n",
    "# Set up the GP model\n",
    "kernel_celerite = terms.Matern32Term(log_sigma=np.log(0.5), log_rho=np.log(2.))\n",
    "gp_celerite = celerite.GP(kernel_celerite)\n",
    "gp_celerite.compute(x_np, diag_np)\n",
    "loglike_celerite = gp_celerite.log_likelihood(y_np)\n",
    "loglike_celerite"
   ]
  },
  {
   "cell_type": "code",
   "execution_count": 16,
   "metadata": {},
   "outputs": [
    {
     "name": "stdout",
     "output_type": "stream",
     "text": [
      "43.4 µs ± 940 ns per loop (mean ± std. dev. of 7 runs, 10000 loops each)\n"
     ]
    }
   ],
   "source": [
    "%timeit gp_celerite.log_likelihood(y_np)"
   ]
  },
  {
   "cell_type": "code",
   "execution_count": null,
   "metadata": {},
   "outputs": [],
   "source": []
  }
 ],
 "metadata": {
  "kernelspec": {
   "display_name": "Python 3",
   "language": "python",
   "name": "python3"
  },
  "language_info": {
   "codemirror_mode": {
    "name": "ipython",
    "version": 3
   },
   "file_extension": ".py",
   "mimetype": "text/x-python",
   "name": "python",
   "nbconvert_exporter": "python",
   "pygments_lexer": "ipython3",
   "version": "3.6.6"
  }
 },
 "nbformat": 4,
 "nbformat_minor": 2
}
