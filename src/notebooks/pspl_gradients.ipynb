{
 "cells": [
  {
   "cell_type": "code",
   "execution_count": 32,
   "metadata": {},
   "outputs": [],
   "source": [
    "import numpy as np\n",
    "from matplotlib import pyplot as plt\n",
    "import matplotlib as mpl\n",
    "\n",
    "import numpy as np\n",
    "from matplotlib import pyplot as plt\n",
    "import matplotlib as mpl\n",
    "import seaborn as sns\n",
    "import pandas as pd\n",
    "import os\n",
    "import sys\n",
    "sys.path.append(\"../codebase\")\n",
    "sys.path.append(\"../models\")\n",
    "\n",
    "\n",
    "mpl.rc('text', usetex=True)\n",
    "mpl.rcParams['axes.labelsize'] = 20\n",
    "mpl.rcParams['xtick.labelsize'] = 20\n",
    "mpl.rcParams['ytick.labelsize'] = 20\n",
    "mpl.rcParams['axes.titlesize'] = 20\n",
    "\n",
    "%matplotlib inline"
   ]
  },
  {
   "cell_type": "code",
   "execution_count": 2,
   "metadata": {},
   "outputs": [],
   "source": [
    "import sympy as sp\n",
    "from sympy import init_printing \n",
    "init_printing(use_latex='mathjax')"
   ]
  },
  {
   "cell_type": "code",
   "execution_count": 3,
   "metadata": {},
   "outputs": [],
   "source": [
    "DeltaF, Fb, t0, teff, tE, t = sp.symbols('DeltaF Fb t0 teff tE t', real=True)\n",
    "\n",
    "u0 = teff/tE\n",
    "u = sp.sqrt(u0**2 + (t - t0)**2/tE**2)\n",
    "A = lambda u: (u**2 + 2)/(u*sp.sqrt(u**2 + 4))\n",
    "\n",
    "F = DeltaF*(A(u) - 1)/(A(u0) - 1) + Fb"
   ]
  },
  {
   "cell_type": "code",
   "execution_count": 4,
   "metadata": {},
   "outputs": [
    {
     "name": "stdout",
     "output_type": "stream",
     "text": [
      "-tE*teff*sqrt(4*tE**2 + teff**2)*(2*tE**2 + teff**2 + (t - t0)**2 - sqrt(4*tE**2*teff**2 + 4*tE**2*(t - t0)**2 + teff**4 + 2*teff**2*(t - t0)**2 + (t - t0)**4))/((tE*teff*sqrt(4*tE**2 + teff**2) - (2*tE**2 + teff**2)*Abs(tE))*sqrt(4*tE**2*teff**2 + 4*tE**2*(t - t0)**2 + teff**4 + 2*teff**2*(t - t0)**2 + (t - t0)**4))\n"
     ]
    }
   ],
   "source": [
    "print(sp.simplify(sp.diff(F, DeltaF)))"
   ]
  },
  {
   "cell_type": "code",
   "execution_count": 5,
   "metadata": {},
   "outputs": [
    {
     "name": "stdout",
     "output_type": "stream",
     "text": [
      "1\n"
     ]
    }
   ],
   "source": [
    "print(sp.simplify(sp.diff(F, Fb)))"
   ]
  },
  {
   "cell_type": "code",
   "execution_count": 6,
   "metadata": {},
   "outputs": [
    {
     "name": "stdout",
     "output_type": "stream",
     "text": [
      "-DeltaF*tE*teff*(t - t0)*sqrt(4*tE**2 + teff**2)*(teff**2 + (t - t0)**2)*(4*tE**2 + teff**2 + (t - t0)**2)*((teff**2 + (t - t0)**2)*(2*tE**2 + teff**2 + (t - t0)**2) - 2*(teff**2 + (t - t0)**2)*(4*tE**2 + teff**2 + (t - t0)**2) + (2*tE**2 + teff**2 + (t - t0)**2)*(4*tE**2 + teff**2 + (t - t0)**2))/((tE*teff*sqrt(4*tE**2 + teff**2) - (2*tE**2 + teff**2)*Abs(tE))*(4*tE**2*teff**2 + 4*tE**2*(t - t0)**2 + teff**4 + 2*teff**2*(t - t0)**2 + (t - t0)**4)**(5/2))\n"
     ]
    }
   ],
   "source": [
    "print(sp.simplify(sp.diff(F, t0)))"
   ]
  },
  {
   "cell_type": "code",
   "execution_count": 7,
   "metadata": {},
   "outputs": [
    {
     "name": "stdout",
     "output_type": "stream",
     "text": [
      "-DeltaF*tE*(-teff**2*(4*tE**2 + teff**2)*(teff**2 + (t - t0)**2)*(tE*teff*sqrt(4*tE**2 + teff**2) - (2*tE**2 + teff**2)*Abs(tE))*(4*tE**2 + teff**2 + (t - t0)**2)*((teff**2 + (t - t0)**2)*(2*tE**2 + teff**2 + (t - t0)**2) - 2*(teff**2 + (t - t0)**2)*(4*tE**2 + teff**2 + (t - t0)**2) + (2*tE**2 + teff**2 + (t - t0)**2)*(4*tE**2 + teff**2 + (t - t0)**2)) - (teff**2*(2*tE**2 + teff**2) - 2*teff**2*(4*tE**2 + teff**2) + (2*tE**2 + teff**2)*(4*tE**2 + teff**2))*(2*tE**2 + teff**2 + (t - t0)**2 - sqrt(4*tE**2*teff**2 + 4*tE**2*(t - t0)**2 + teff**4 + 2*teff**2*(t - t0)**2 + (t - t0)**4))*(4*tE**2*teff**2 + 4*tE**2*(t - t0)**2 + teff**4 + 2*teff**2*(t - t0)**2 + (t - t0)**4)**2*Abs(tE))*sqrt(4*tE**2*teff**2 + 4*tE**2*(t - t0)**2 + teff**4 + 2*teff**2*(t - t0)**2 + (t - t0)**4)/(sqrt(4*tE**2 + teff**2)*(teff**2 + (t - t0)**2)**3*(tE*teff*sqrt(4*tE**2 + teff**2) - (2*tE**2 + teff**2)*Abs(tE))**2*(4*tE**2 + teff**2 + (t - t0)**2)**3)\n"
     ]
    }
   ],
   "source": [
    "print(sp.simplify(sp.diff(F, teff)))"
   ]
  },
  {
   "cell_type": "code",
   "execution_count": 8,
   "metadata": {},
   "outputs": [
    {
     "name": "stdout",
     "output_type": "stream",
     "text": [
      "DeltaF*teff*((4*tE**2 + teff**2)*((teff**2 + (t - t0)**2)*(2*tE**2 + teff**2 + (t - t0)**2) + (2*tE**2 - teff**2 - (t - t0)**2)*(4*tE**2 + teff**2 + (t - t0)**2))*(-tE*teff*sqrt(4*tE**2 + teff**2) + (2*tE**2 + teff**2)*Abs(tE))*sqrt(4*tE**2 + teff**2 + (t - t0)**2)*sqrt(4*tE**2*teff**2 + 4*tE**2*(t - t0)**2 + teff**4 + 2*teff**2*(t - t0)**2 + (t - t0)**4) + sqrt(teff**2 + (t - t0)**2)*(4*tE**2 + teff**2 + (t - t0)**2)**2*(teff**2*(2*tE**2 + teff**2) - 2*teff**2*(4*tE**2 + teff**2) + (2*tE**2 + teff**2)*(4*tE**2 + teff**2))*(-2*tE**2 - teff**2 - (t - t0)**2 + sqrt(4*tE**2*teff**2 + 4*tE**2*(t - t0)**2 + teff**4 + 2*teff**2*(t - t0)**2 + (t - t0)**4))*Abs(tE))/(sqrt(4*tE**2 + teff**2)*(teff**2 + (t - t0)**2)*(-tE*teff*sqrt(4*tE**2 + teff**2) + (2*tE**2 + teff**2)*Abs(tE))**2*(4*tE**2 + teff**2 + (t - t0)**2)**(5/2))\n"
     ]
    }
   ],
   "source": [
    "print(sp.simplify(sp.diff(F, tE)))"
   ]
  },
  {
   "cell_type": "code",
   "execution_count": 9,
   "metadata": {},
   "outputs": [],
   "source": [
    "import numpy as np"
   ]
  },
  {
   "cell_type": "code",
   "execution_count": 39,
   "metadata": {},
   "outputs": [],
   "source": [
    "grad_DeltaF = lambda t, DeltaF, Fb, t0, teff, tE: -tE*teff*np.sqrt(4*tE**2 + teff**2)*(2*tE**2 + teff**2 + (t - t0)**2 -\\\n",
    "    np.sqrt(4*tE**2*teff**2 + 4*tE**2*(t - t0)**2 + teff**4 + 2*teff**2*(t - t0)**2 + (t - t0)**4))/((tE*teff*np.sqrt(4*tE**2 + teff**2) -\\\n",
    "    (2*tE**2 + teff**2)*np.abs(tE))*np.sqrt(4*tE**2*teff**2 + 4*tE**2*(t - t0)**2 + teff**4 + 2*teff**2*(t - t0)**2 + (t - t0)**4))\n",
    "\n",
    "grad_Fb = lambda t, DeltaF, Fb, t0, teff, tE: np.ones(len(t))\n",
    "\n",
    "grad_t0 = lambda t, DeltaF, Fb, t0, teff, tE: -DeltaF*tE*teff*(t - t0)*np.sqrt(4*tE**2 + teff**2)*(teff**2 +\\\n",
    "    (t - t0)**2)*(4*tE**2 + teff**2 + (t - t0)**2)*((teff**2 + (t - t0)**2)*(2*tE**2 + teff**2 + (t - t0)**2) -\\\n",
    "    2*(teff**2 + (t - t0)**2)*(4*tE**2 + teff**2 + (t - t0)**2) + (2*tE**2 + teff**2 +\\\n",
    "    (t - t0)**2)*(4*tE**2 + teff**2 + (t - t0)**2))/((tE*teff*np.sqrt(4*tE**2 + teff**2) -\\\n",
    "    (2*tE**2 + teff**2)*np.abs(tE))*(4*tE**2*teff**2 + 4*tE**2*(t - t0)**2 + teff**4 +\\\n",
    "    2*teff**2*(t - t0)**2 + (t - t0)**4)**(5/2))\n",
    "\n",
    "grad_teff = lambda t, DeltaF, Fb, t0, teff, tE: -DeltaF*tE*(-teff**2*(4*tE**2 + teff**2)*(teff**2 +\\\n",
    "    (t - t0)**2)*(tE*teff*np.sqrt(4*tE**2 + teff**2) - (2*tE**2 + teff**2)*np.abs(tE))*(4*tE**2 + teff**2 +\\\n",
    "    (t - t0)**2)*((teff**2 + (t - t0)**2)*(2*tE**2 + teff**2 + (t - t0)**2) - 2*(teff**2 +\\\n",
    "    (t - t0)**2)*(4*tE**2 + teff**2 + (t - t0)**2) + (2*tE**2 + teff**2 + (t - t0)**2)*(4*tE**2 +\\\n",
    "    teff**2 + (t - t0)**2)) - (teff**2*(2*tE**2 + teff**2) - 2*teff**2*(4*tE**2 + teff**2) +\\\n",
    "    (2*tE**2 + teff**2)*(4*tE**2 + teff**2))*(2*tE**2 + teff**2 +\\\n",
    "    (t - t0)**2 - np.sqrt(4*tE**2*teff**2 + 4*tE**2*(t - t0)**2 + teff**4 + 2*teff**2*(t - t0)**2 + \\\n",
    "    (t - t0)**4))*(4*tE**2*teff**2 + 4*tE**2*(t - t0)**2 + teff**4 + 2*teff**2*(t - t0)**2 +\\\n",
    "    (t - t0)**4)**2*np.abs(tE))*np.sqrt(4*tE**2*teff**2 + 4*tE**2*(t - t0)**2 + teff**4 + 2*teff**2*(t - t0)**2 +\\\n",
    "    (t - t0)**4)/(np.sqrt(4*tE**2 + teff**2)*(teff**2 + (t - t0)**2)**3*(tE*teff*np.sqrt(4*tE**2 + teff**2) -\\\n",
    "    (2*tE**2 + teff**2)*np.abs(tE))**2*(4*tE**2 + teff**2 + (t - t0)**2)**3)\n",
    "\n",
    "grad_tE = lambda t, DeltaF, Fb, t0, teff, tE: DeltaF*teff*((4*tE**2 + teff**2)*((teff**2 +\\\n",
    "    (t - t0)**2)*(2*tE**2 + teff**2 + (t - t0)**2) + (2*tE**2 - teff**2 -\\\n",
    "    (t - t0)**2)*(4*tE**2 + teff**2 + (t - t0)**2))*(-tE*teff*np.sqrt(4*tE**2 + teff**2) +\\\n",
    "    (2*tE**2 + teff**2)*np.abs(tE))*np.sqrt(4*tE**2 + teff**2 + (t - t0)**2)*np.sqrt(4*tE**2*teff**2 +\\\n",
    "    4*tE**2*(t - t0)**2 + teff**4 + 2*teff**2*(t - t0)**2 + (t - t0)**4) + np.sqrt(teff**2 +\\\n",
    "    (t - t0)**2)*(4*tE**2 + teff**2 + (t - t0)**2)**2*(teff**2*(2*tE**2 + teff**2) -\\\n",
    "    2*teff**2*(4*tE**2 + teff**2) + (2*tE**2 + teff**2)*(4*tE**2 + teff**2))*(-2*tE**2 -\\\n",
    "    teff**2 - (t - t0)**2 + np.sqrt(4*tE**2*teff**2 + 4*tE**2*(t - t0)**2 + teff**4 +\\\n",
    "    2*teff**2*(t - t0)**2 + (t - t0)**4))*np.abs(tE))/(np.sqrt(4*tE**2 + teff**2)*(teff**2 +\\\n",
    "    (t - t0)**2)*(-tE*teff*np.sqrt(4*tE**2 + teff**2) +\\\n",
    "    (2*tE**2 + teff**2)*np.abs(tE))**2*(4*tE**2 + teff**2 + (t - t0)**2)**(5/2))"
   ]
  },
  {
   "cell_type": "code",
   "execution_count": 40,
   "metadata": {},
   "outputs": [],
   "source": [
    "t = np.linspace(-50, 50, 1000)\n",
    "\n",
    "def pspl(t, DeltaF, Fb, t0, teff, tE):\n",
    "    u0 = teff/tE\n",
    "    u = np.sqrt(u0**2 + (t - t0)**2/tE**2)\n",
    "    A = lambda u: (u**2 + 2)/(u*np.sqrt(u**2 + 4))\n",
    "    return DeltaF*(A(u) - 1)/(A(u0) - 1) + Fb\n",
    "\n",
    "\n",
    "# grad_tE(t, 5., 0., 0., 15, 20)"
   ]
  },
  {
   "cell_type": "code",
   "execution_count": 111,
   "metadata": {},
   "outputs": [
    {
     "data": {
      "text/plain": [
       "Text(-60, 0.02, '$\\\\frac{\\\\partial F}{\\\\partial t_E}$')"
      ]
     },
     "execution_count": 111,
     "metadata": {},
     "output_type": "execute_result"
    },
    {
     "data": {
      "image/png": "[encoded data removed]",
      "text/plain": [
       "<Figure size 1080x1080 with 6 Axes>"
      ]
     },
     "metadata": {
      "needs_background": "light"
     },
     "output_type": "display_data"
    }
   ],
   "source": [
    "fig, ax = plt.subplots(6, 1, gridspec_kw={'height_ratios':[6,1,1,1,1, 1]},\n",
    "             figsize=(15, 15), sharex=True)\n",
    "fig.subplots_adjust(hspace=0.1)\n",
    "\n",
    "DeltaF_ = 5.\n",
    "Fb_ = 0.\n",
    "t0_ = 0.\n",
    "teff_ = 5.\n",
    "tE_ = 10.\n",
    "\n",
    "ax[0].plot(t, pspl(t, DeltaF_, Fb_, t0_, teff_, tE_), 'k-', lw=2)\n",
    "ax[1].plot(t, grad_DeltaF(t, DeltaF_, Fb_, t0_, teff_, tE_), lw=2)\n",
    "ax[2].plot(t, grad_Fb(t, DeltaF_, Fb_, t0_, teff_, tE_), lw=2)\n",
    "ax[3].plot(t, grad_t0(t, DeltaF_, Fb_, t0_, teff_, tE_), lw=2)\n",
    "ax[4].plot(t, grad_teff(t, DeltaF_, Fb_, t0_, teff_, tE_), lw=2)\n",
    "ax[5].plot(t, grad_tE(t, DeltaF_, Fb_, t0_, teff_, tE_), lw=2)\n",
    "\n",
    "\n",
    "ax[0].set_ylabel(r'$F$')\n",
    "ax[1].set_ylabel(r'$\\frac{\\partial F}{\\partial \\Delta F}$')\n",
    "\n",
    "ax[5].axis('off')\n",
    "\n",
    "for a in ax[:].ravel():\n",
    "    a.axis('off')\n",
    "    \n",
    "plt.text(-60, 0.8, r'$F$', fontsize=20)\n",
    "plt.text(-60, 0.42, r'$\\frac{\\partial F}{\\partial \\Delta F}$', fontsize=18)\n",
    "plt.text(-60, 0.32, r'$\\frac{\\partial F}{\\partial F_{base}}$', fontsize=18)\n",
    "plt.text(-60, 0.22, r'$\\frac{\\partial F}{\\partial t_0}$', fontsize=18)\n",
    "plt.text(-60, 0.12, r'$\\frac{\\partial F}{\\partial t_{eff}}$', fontsize=18)\n",
    "plt.text(-60, 0.02, r'$\\frac{\\partial F}{\\partial t_E}$', fontsize=18)"
   ]
  },
  {
   "cell_type": "code",
   "execution_count": null,
   "metadata": {},
   "outputs": [],
   "source": []
  }
 ],
 "metadata": {
  "kernelspec": {
   "display_name": "Python 3",
   "language": "python",
   "name": "python3"
  },
  "language_info": {
   "codemirror_mode": {
    "name": "ipython",
    "version": 3
   },
   "file_extension": ".py",
   "mimetype": "text/x-python",
   "name": "python",
   "nbconvert_exporter": "python",
   "pygments_lexer": "ipython3",
   "version": "3.6.3"
  }
 },
 "nbformat": 4,
 "nbformat_minor": 2
}
