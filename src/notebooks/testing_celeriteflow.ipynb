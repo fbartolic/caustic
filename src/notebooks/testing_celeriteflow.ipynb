{
 "cells": [
  {
   "cell_type": "code",
   "execution_count": 4,
   "metadata": {},
   "outputs": [],
   "source": [
    "import numpy as np\n",
    "import tensorflow as tf\n",
    "import celeriteflow as cf"
   ]
  },
  {
   "cell_type": "code",
   "execution_count": 5,
   "metadata": {},
   "outputs": [],
   "source": [
    "T = tf.float64\n",
    "\n",
    "np.random.seed(42)\n",
    "N = 5000\n",
    "x = tf.constant(np.sort(np.random.uniform(0, 100, N)))\n",
    "diag = tf.constant(np.random.uniform(0.001, 0.01, N))\n",
    "y = tf.sin(x)\n",
    "\n",
    "log_S0 = tf.Variable(0.0, dtype=T)\n",
    "log_w0 = tf.Variable(0.0, dtype=T)\n",
    "log_Q = tf.Variable(0.0, dtype=T)\n",
    "\n",
    "kernel = cf.terms.SHOTerm(log_S0=log_S0,\n",
    "                          log_w0=log_w0,\n",
    "                          log_Q=log_Q)\n",
    "\n",
    "gp = cf.GaussianProcess(kernel, x, y, diag)\n",
    "\n",
    "loglike = gp.log_likelihood\n",
    "grad_loglike = tf.gradients(loglike, [log_S0, log_w0, log_Q])"
   ]
  },
  {
   "cell_type": "code",
   "execution_count": 6,
   "metadata": {},
   "outputs": [
    {
     "data": {
      "text/plain": [
       "[<tf.Tensor 'gradients_1/SHOTerm_1/S0_grad/mul:0' shape=() dtype=float64>,\n",
       " <tf.Tensor 'gradients_1/SHOTerm_1/w0_grad/mul:0' shape=() dtype=float64>,\n",
       " <tf.Tensor 'gradients_1/SHOTerm_1/Q_grad/mul:0' shape=() dtype=float64>]"
      ]
     },
     "execution_count": 6,
     "metadata": {},
     "output_type": "execute_result"
    }
   ],
   "source": [
    "grad_loglike"
   ]
  },
  {
   "cell_type": "code",
   "execution_count": 7,
   "metadata": {},
   "outputs": [],
   "source": [
    "solver = cf.Solver(kernel, x, diag)\n",
    "alpha = solver.apply_inverse(y[:, None])\n",
    "logdet = solver.log_determinant"
   ]
  },
  {
   "cell_type": "code",
   "execution_count": null,
   "metadata": {},
   "outputs": [],
   "source": []
  }
 ],
 "metadata": {
  "kernelspec": {
   "display_name": "Python 3",
   "language": "python",
   "name": "python3"
  },
  "language_info": {
   "codemirror_mode": {
    "name": "ipython",
    "version": 3
   },
   "file_extension": ".py",
   "mimetype": "text/x-python",
   "name": "python",
   "nbconvert_exporter": "python",
   "pygments_lexer": "ipython3",
   "version": "3.6.6"
  }
 },
 "nbformat": 4,
 "nbformat_minor": 2
}
