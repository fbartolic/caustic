{
 "cells": [
  {
   "cell_type": "code",
   "execution_count": 1,
   "metadata": {},
   "outputs": [],
   "source": [
    "import numpy as np\n",
    "from matplotlib import pyplot as plt\n",
    "import matplotlib as mpl\n",
    "from sympy import *\n",
    "\n",
    "mpl.rc('text', usetex=True)\n",
    "mpl.rcParams['axes.labelsize'] = 20\n",
    "mpl.rcParams['xtick.labelsize'] = 20\n",
    "mpl.rcParams['ytick.labelsize'] = 20\n",
    "mpl.rcParams['axes.titlesize'] = 20\n",
    "\n",
    "%matplotlib inline\n",
    "\n",
    "# Better looking figures\n",
    "%config InlineBackend.figure_format = 'retina'\n",
    "init_printing(use_unicode=False, wrap_line=True)"
   ]
  },
  {
   "cell_type": "code",
   "execution_count": 12,
   "metadata": {},
   "outputs": [
    {
     "data": {
      "image/png": "[encoded data removed]",
      "text/latex": [
       "$$\\sqrt{\\frac{t_{eff}^{2}}{t_{E}^{2}} + \\frac{\\left(t - t_{0}\\right)^{2}}{t_{E}^{2}}}$$"
      ],
      "text/plain": [
       "      _______________________\n",
       "     /        2            2 \n",
       "    /  t_{eff}    (t - t_0)  \n",
       "   /   -------- + ---------- \n",
       "  /         2           2    \n",
       "\\/       t_E         t_E     "
      ]
     },
     "execution_count": 12,
     "metadata": {},
     "output_type": "execute_result"
    }
   ],
   "source": [
    "A, A_u0, DeltaF, Fb, t0, teff, tE, t = symbols(\"A A_{u_0} \\Delta, F_b, t_0, t_{eff}, t_E, t\", real=True, positive=True)  \n",
    "\n",
    "u0 = teff/tE\n",
    "u = sqrt(u0**2 + (t - t0)**2/tE**2)\n",
    "u"
   ]
  },
  {
   "cell_type": "code",
   "execution_count": 13,
   "metadata": {},
   "outputs": [
    {
     "data": {
      "image/png": "[encoded data removed]",
      "text/latex": [
       "$$\\frac{\\Delta}{A_{u_0} - 1}$$"
      ],
      "text/plain": [
       "   \\Delta  \n",
       "-----------\n",
       "A_{u_0} - 1"
      ]
     },
     "execution_count": 13,
     "metadata": {},
     "output_type": "execute_result"
    }
   ],
   "source": [
    "# A = (u**2 + 2)/(u*sqrt(u**2 + 4))\n",
    "# A_u0 = (u0**2 + 2)/(u0*sqrt(u0**2 + 4))\n",
    "\n",
    "F = DeltaF*(A - 1)/(A_u0 - 1) + Fb\n",
    "simplify(diff(F, A))"
   ]
  },
  {
   "cell_type": "code",
   "execution_count": 14,
   "metadata": {},
   "outputs": [
    {
     "data": {
      "image/png": "[encoded data removed]",
      "text/latex": [
       "$$- \\frac{\\Delta \\left(A - 1\\right)}{\\left(A_{u_0} - 1\\right)^{2}}$$"
      ],
      "text/plain": [
       "-\\Delta*(A - 1) \n",
       "----------------\n",
       "              2 \n",
       " (A_{u_0} - 1)  "
      ]
     },
     "execution_count": 14,
     "metadata": {},
     "output_type": "execute_result"
    }
   ],
   "source": [
    "simplify(diff(F, A_u0))"
   ]
  },
  {
   "cell_type": "markdown",
   "metadata": {},
   "source": [
    "### t0"
   ]
  },
  {
   "cell_type": "code",
   "execution_count": 27,
   "metadata": {},
   "outputs": [
    {
     "name": "stdout",
     "output_type": "stream",
     "text": [
      "8*t_E**4*(t - t_0)/(t**4 - 4*t**3*t_0 + 6*t**2*t_0**2 + 4*t**2*t_E**2 + 2*t**2*t_{eff}**2 - 4*t*t_0**3 - 8*t*t_0*t_E**2 - 4*t*t_0*t_{eff}**2 + t_0**4 + 4*t_0**2*t_E**2 + 2*t_0**2*t_{eff}**2 + 4*t_E**2*t_{eff}**2 + t_{eff}**4)**(3/2)\n"
     ]
    }
   ],
   "source": [
    "A_ = (u**2 + 2)/(u*sqrt(u**2 + 4))\n",
    "A_u0_ = (u0**2 + 2)/(u0*sqrt(u0**2 + 4))\n",
    "\n",
    "print(simplify(diff(A_, t0)))"
   ]
  },
  {
   "cell_type": "markdown",
   "metadata": {},
   "source": [
    "### $t_{eff}$"
   ]
  },
  {
   "cell_type": "code",
   "execution_count": 28,
   "metadata": {},
   "outputs": [
    {
     "name": "stdout",
     "output_type": "stream",
     "text": [
      "-8*t_E**4*t_{eff}/(t**4 - 4*t**3*t_0 + 6*t**2*t_0**2 + 4*t**2*t_E**2 + 2*t**2*t_{eff}**2 - 4*t*t_0**3 - 8*t*t_0*t_E**2 - 4*t*t_0*t_{eff}**2 + t_0**4 + 4*t_0**2*t_E**2 + 2*t_0**2*t_{eff}**2 + 4*t_E**2*t_{eff}**2 + t_{eff}**4)**(3/2)\n"
     ]
    }
   ],
   "source": [
    "print(simplify(diff(A_, teff)))"
   ]
  },
  {
   "cell_type": "code",
   "execution_count": 29,
   "metadata": {},
   "outputs": [
    {
     "name": "stdout",
     "output_type": "stream",
     "text": [
      "-8*t_E**4/(t_{eff}**2*(4*t_E**2 + t_{eff}**2)**(3/2))\n"
     ]
    }
   ],
   "source": [
    "print(simplify(diff(A_u0_, teff)))"
   ]
  },
  {
   "cell_type": "markdown",
   "metadata": {},
   "source": [
    "### t_E"
   ]
  },
  {
   "cell_type": "code",
   "execution_count": 25,
   "metadata": {},
   "outputs": [
    {
     "data": {
      "image/png": "[encoded data removed]",
      "text/latex": [
       "$$\\frac{8 t_{E}^{3}}{\\sqrt{t^{2} - 2 t t_{0} + t_{0}^{2} + t_{eff}^{2}} \\left(t^{2} - 2 t t_{0} + t_{0}^{2} + 4 t_{E}^{2} + t_{eff}^{2}\\right)^{\\frac{3}{2}}}$$"
      ],
      "text/plain": [
       "                                          3                                   \n",
       "                                     8*t_E                                    \n",
       "------------------------------------------------------------------------------\n",
       "   ________________________________                                          3\n",
       "  /  2                2          2  / 2                2        2          2\\ \n",
       "\\/  t  - 2*t*t_0 + t_0  + t_{eff}  *\\t  - 2*t*t_0 + t_0  + 4*t_E  + t_{eff} / \n",
       "\n",
       "  \n",
       "  \n",
       "--\n",
       "/2\n",
       "  \n",
       "  "
      ]
     },
     "execution_count": 25,
     "metadata": {},
     "output_type": "execute_result"
    }
   ],
   "source": [
    "print(simplify(diff(A_, tE)))"
   ]
  },
  {
   "cell_type": "code",
   "execution_count": 26,
   "metadata": {},
   "outputs": [
    {
     "data": {
      "image/png": "[encoded data removed]",
      "text/latex": [
       "$$\\frac{8 t_{E}^{3}}{t_{eff} \\left(4 t_{E}^{2} + t_{eff}^{2}\\right)^{\\frac{3}{2}}}$$"
      ],
      "text/plain": [
       "                 3            \n",
       "            8*t_E             \n",
       "------------------------------\n",
       "                           3/2\n",
       "        /     2          2\\   \n",
       "t_{eff}*\\4*t_E  + t_{eff} /   "
      ]
     },
     "execution_count": 26,
     "metadata": {},
     "output_type": "execute_result"
    }
   ],
   "source": [
    "print(simplify(diff(A_u0_, tE)))"
   ]
  }
 ],
 "metadata": {
  "kernelspec": {
   "display_name": "Python 3",
   "language": "python",
   "name": "python3"
  },
  "language_info": {
   "codemirror_mode": {
    "name": "ipython",
    "version": 3
   },
   "file_extension": ".py",
   "mimetype": "text/x-python",
   "name": "python",
   "nbconvert_exporter": "python",
   "pygments_lexer": "ipython3",
   "version": "3.6.6"
  }
 },
 "nbformat": 4,
 "nbformat_minor": 2
}
