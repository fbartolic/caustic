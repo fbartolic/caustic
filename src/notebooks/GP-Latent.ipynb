{
 "cells": [
  {
   "cell_type": "markdown",
   "metadata": {},
   "source": [
    "# Latent Variable Implementation\n",
    "\n",
    "The `gp.Latent` class is a direct implementation of a GP.  It is called \"Latent\" because the underlying function values are treated as latent variables.  It has a `prior` method, and a `conditional` method.  Given a mean and covariance function, the function $f(x)$ is modeled as,\n",
    "\n",
    "$$\n",
    "f(x) \\sim \\mathcal{GP}(m(x),\\, k(x, x')) \\,.\n",
    "$$"
   ]
  },
  {
   "cell_type": "markdown",
   "metadata": {},
   "source": [
    "## `.prior`\n",
    "\n",
    "With some data set of finite size, the `prior` method places a multivariate normal prior distribution on the vector of function values, $\\mathbf{f}$,\n",
    "\n",
    "$$\n",
    "\\mathbf{f} \\sim \\text{MvNormal}(\\mathbf{m}_{x},\\, \\mathbf{K}_{xx}) \\,,\n",
    "$$\n",
    "\n",
    "where the vector $\\mathbf{m}$ and the matrix $\\mathbf{K}_{xx}$ are the mean vector and covariance matrix evaluated over the inputs $x$.  Some sample code is,\n",
    "\n",
    "```python\n",
    "import numpy as np\n",
    "import pymc3 as pm\n",
    "\n",
    "# A one dimensional column vector of inputs.\n",
    "X = np.linspace(0, 1, 10)[:,None]\n",
    "\n",
    "with pm.Model() as latent_gp_model:\n",
    "    # Specify the covariance function.\n",
    "    cov_func = pm.gp.cov.ExpQuad(1, ls=0.1)\n",
    "    \n",
    "    # Specify the GP.  The default mean function is `Zero`.\n",
    "    gp = pm.gp.Latent(cov_func=cov_func)\n",
    "    \n",
    "    # Place a GP prior over the function f.\n",
    "    f = gp.prior(\"f\", X=X)\n",
    "```\n",
    "\n",
    "By default, PyMC3 reparameterizes the prior on `f` under the hood by rotating it with the Cholesky factor of its covariance matrix.  This helps to reduce covariances in the posterior of the transformed random variable, `v`.  The reparameterized model is,\n",
    "\n",
    "$$\n",
    "\\begin{aligned}\n",
    "  \\mathbf{v} \\sim \\text{N}(0, 1)& \\\\\n",
    "  \\mathbf{L} = \\text{Cholesky}(\\mathbf{K}_{xx})& \\\\\n",
    "  \\mathbf{f} = \\mathbf{m}_{x} + \\mathbf{Lv} \\\\\n",
    "\\end{aligned}\n",
    "$$\n",
    "\n",
    "For more information about this reparameterization, see the section on [drawing values from a multivariate distribution](https://en.wikipedia.org/wiki/Multivariate_normal_distribution#Drawing_values_from_the_distribution).  This reparameterization can be disabled by setting the optional flag in the `prior` method, `reparameterize = False`.  The default is `True`."
   ]
  },
  {
   "cell_type": "markdown",
   "metadata": {},
   "source": [
    "## `.conditional`\n",
    "\n",
    "The conditional method implements the predictive distribution for function values that were not part of the original data set.  This distribution is,\n",
    "\n",
    "$$\n",
    "\\mathbf{f}_* \\mid \\mathbf{f} \\sim \\text{MvNormal} \\left(\n",
    "  \\mathbf{m}_* + \\mathbf{K}_{*x}\\mathbf{K}_{xx}^{-1} \\mathbf{f} ,\\,\n",
    "  \\mathbf{K}_{**} - \\mathbf{K}_{*x}\\mathbf{K}_{xx}^{-1}\\mathbf{K}_{x*} \\right)\n",
    "$$\n",
    "\n",
    "Using the same `gp` object we defined above, we can construct a random variable with this\n",
    "distribution by,\n",
    "\n",
    "```python\n",
    "# vector of new X points we want to predict the function at\n",
    "X_star = np.linspace(0, 2, 100)[:, None]\n",
    "\n",
    "with latent_gp_model:\n",
    "    f_star = gp.conditional(\"f_star\", X_star)\n",
    "```"
   ]
  },
  {
   "cell_type": "markdown",
   "metadata": {},
   "source": [
    "## Example 1: Regression with Student-T distributed noise\n",
    "\n",
    "The following is an example showing how to specify a simple model with a GP prior using the `gp.Latent` class.  So we can verify that the inference we perform is correct, the data set is made using a draw from a GP.  "
   ]
  },
  {
   "cell_type": "code",
   "execution_count": 1,
   "metadata": {
    "ExecuteTime": {
     "end_time": "2017-08-28T05:45:33.296658Z",
     "start_time": "2017-08-28T05:45:32.563463Z"
    },
    "collapsed": true
   },
   "outputs": [],
   "source": [
    "import sys\n",
    "\n",
    "import pymc3 as pm\n",
    "import theano.tensor as tt\n",
    "import theano\n",
    "import numpy as np\n",
    "\n",
    "import matplotlib.pyplot as plt\n",
    "%matplotlib inline"
   ]
  },
  {
   "cell_type": "code",
   "execution_count": 2,
   "metadata": {
    "ExecuteTime": {
     "end_time": "2017-08-28T05:45:35.398938Z",
     "start_time": "2017-08-28T05:45:33.438323Z"
    },
    "collapsed": false
   },
   "outputs": [
    {
     "data": {
      "image/png": "[encoded data removed]",
      "text/plain": [
       "<Figure size 864x360 with 1 Axes>"
      ]
     },
     "metadata": {
      "needs_background": "light"
     },
     "output_type": "display_data"
    }
   ],
   "source": [
    "# set the seed\n",
    "np.random.seed(1)\n",
    "\n",
    "n = 100 # The number of data points\n",
    "X = np.linspace(0, 10, n)[:, None] # The inputs to the GP, they must be arranged as a column vector\n",
    "\n",
    "# Define the true covariance function and its parameters\n",
    "ℓ_true = 1.0\n",
    "η_true = 3.0\n",
    "cov_func = η_true**2 * pm.gp.cov.Matern52(1, ℓ_true)\n",
    "\n",
    "# A mean function that is zero everywhere\n",
    "mean_func = pm.gp.mean.Zero()\n",
    "\n",
    "# The latent function values are one sample from a multivariate normal\n",
    "# Note that we have to call `eval()` because PyMC3 built on top of Theano\n",
    "f_true = np.random.multivariate_normal(mean_func(X).eval(), \n",
    "                                       cov_func(X).eval() + 1e-8*np.eye(n), 1).flatten()\n",
    "\n",
    "# The observed data is the latent function plus a small amount of T distributed noise\n",
    "# The standard deviation of the noise is `sigma`, and the degrees of freedom is `nu`\n",
    "σ_true = 2.0\n",
    "ν_true = 3.0\n",
    "y = f_true + σ_true * np.random.standard_t(ν_true, size=n)\n",
    "\n",
    "## Plot the data and the unobserved latent function\n",
    "fig = plt.figure(figsize=(12,5)); ax = fig.gca()\n",
    "ax.plot(X, f_true, \"dodgerblue\", lw=3, label=\"True f\");\n",
    "ax.plot(X, y, 'ok', ms=3, label=\"Data\");\n",
    "ax.set_xlabel(\"X\"); ax.set_ylabel(\"y\"); plt.legend();"
   ]
  },
  {
   "cell_type": "markdown",
   "metadata": {},
   "source": [
    "The data above shows the observations, marked with black dots, of the unknown function $f(x)$ that has been corrupted by noise.  The true function is in blue.  \n",
    "\n",
    "### Coding the model in PyMC3\n",
    "\n",
    "Here's the model in PyMC3.  We use a $\\text{Gamma}(2, 1)$ prior over the lengthscale parameter, and weakly informative $\\text{HalfCauchy}(5)$ priors over the covariance function scale, and noise scale.  A $\\text{Gamma}(2, 0.1)$ prior is assigned to the degrees of freedom parameter of the noise.  Finally, a GP prior is placed on the unknown function.  For more information on choosing priors in Gaussian process models, check out some of [recommendations by the Stan folks](https://github.com/stan-dev/stan/wiki/Prior-Choice-Recommendations)."
   ]
  },
  {
   "cell_type": "code",
   "execution_count": null,
   "metadata": {
    "ExecuteTime": {
     "end_time": "2017-08-28T05:49:32.027063Z",
     "start_time": "2017-08-28T05:45:35.633110Z"
    },
    "collapsed": false
   },
   "outputs": [
    {
     "name": "stderr",
     "output_type": "stream",
     "text": [
      "Auto-assigning NUTS sampler...\n",
      "Initializing NUTS using jitter+adapt_diag...\n",
      "/home/star/fb90/anaconda3/lib/python3.6/site-packages/theano/tensor/basic.py:6592: FutureWarning: Using a non-tuple sequence for multidimensional indexing is deprecated; use `arr[tuple(seq)]` instead of `arr[seq]`. In the future this will be interpreted as an array index, `arr[np.array(seq)]`, which will result either in an error or a different result.\n",
      "  result[diagonal_slice] = x\n",
      "Multiprocess sampling (4 chains in 4 jobs)\n",
      "NUTS: [ν, σ, f_rotated_, η, ℓ]\n",
      "Sampling 4 chains:   0%|          | 0/6000 [00:00<?, ?draws/s]"
     ]
    }
   ],
   "source": [
    "with pm.Model() as model:\n",
    "    ℓ = pm.Gamma(\"ℓ\", alpha=2, beta=1)\n",
    "    η = pm.HalfCauchy(\"η\", beta=5)\n",
    "    \n",
    "    cov = η**2 * pm.gp.cov.Matern52(1, ℓ)\n",
    "    gp = pm.gp.Latent(cov_func=cov)\n",
    "    \n",
    "    f = gp.prior(\"f\", X=X)\n",
    "    \n",
    "    σ = pm.HalfCauchy(\"σ\", beta=5)\n",
    "    ν = pm.Gamma(\"ν\", alpha=2, beta=0.1)\n",
    "    y_ = pm.StudentT(\"y\", mu=f, lam=1.0/σ, nu=ν, observed=y)\n",
    "    \n",
    "    trace = pm.sample(1000)"
   ]
  },
  {
   "cell_type": "markdown",
   "metadata": {},
   "source": [
    "### Results\n",
    "\n",
    "Below are the posteriors of the covariance function hyperparameters.  The red lines show the true values that were used to draw the function from the GP."
   ]
  },
  {
   "cell_type": "code",
   "execution_count": null,
   "metadata": {
    "ExecuteTime": {
     "end_time": "2017-08-28T05:49:33.476023Z",
     "start_time": "2017-08-28T05:49:32.029001Z"
    },
    "collapsed": false
   },
   "outputs": [],
   "source": [
    "pm.traceplot(trace, lines={\"η\": η_true, \"σ\": σ_true, \"ℓ\": ℓ_true, \"ν\": ν_true}, varnames=[\"η\", \"σ\", \"ℓ\", \"ν\"]);"
   ]
  },
  {
   "cell_type": "code",
   "execution_count": null,
   "metadata": {
    "ExecuteTime": {
     "end_time": "2017-08-28T05:49:34.363422Z",
     "start_time": "2017-08-28T05:49:33.477956Z"
    },
    "collapsed": false
   },
   "outputs": [],
   "source": [
    "# plot the results\n",
    "fig = plt.figure(figsize=(12,5)); ax = fig.gca()\n",
    "\n",
    "# plot the samples from the gp posterior with samples and shading\n",
    "from pymc3.gp.util import plot_gp_dist\n",
    "plot_gp_dist(ax, trace[\"f\"], X);\n",
    "\n",
    "# plot the data and the true latent function\n",
    "plt.plot(X, f_true, \"dodgerblue\", lw=3, label=\"True f\");\n",
    "plt.plot(X, y, 'ok', ms=3, alpha=0.5, label=\"Observed data\");\n",
    "\n",
    "# axis labels and title\n",
    "plt.xlabel(\"X\"); plt.ylabel(\"True f(x)\"); \n",
    "plt.title(\"Posterior distribution over $f(x)$ at the observed values\"); plt.legend();"
   ]
  },
  {
   "cell_type": "markdown",
   "metadata": {},
   "source": [
    "As you can see by the red shading, the posterior of the GP prior over the function does a great job of representing both the fit, and the uncertainty caused by the additive noise.  The result also doesn't over fit due to outliers from the Student-T noise model.\n",
    "\n",
    "### Using `.conditional`\n",
    "\n",
    "Next, we extend the model by adding the conditional distribution so we can predict at new $x$ locations.  Lets see how the extrapolation looks out to higher $x$.  To do this, we extend our `model` with the `conditional` distribution of the GP.  Then, we can sample from it using the `trace` and the `sample_posterior_predictive` function.  This is similar to how Stan uses its `generated quantities {...}` blocks.  We could have included `gp.conditional` in the model *before* we did the NUTS sampling, but it is more efficient to separate these steps."
   ]
  },
  {
   "cell_type": "code",
   "execution_count": null,
   "metadata": {
    "ExecuteTime": {
     "end_time": "2017-08-28T05:49:49.545718Z",
     "start_time": "2017-08-28T05:49:34.365046Z"
    },
    "collapsed": false
   },
   "outputs": [],
   "source": [
    "# 200 new values from x=0 to x=15\n",
    "n_new = 200\n",
    "X_new = np.linspace(0, 15, n_new)[:,None]\n",
    "\n",
    "# add the GP conditional to the model, given the new X values\n",
    "with model:\n",
    "    f_pred = gp.conditional(\"f_pred\", X_new)\n",
    "\n",
    "# Sample from the GP conditional distribution\n",
    "with model:\n",
    "    pred_samples = pm.sample_posterior_predictive(trace, vars=[f_pred], samples=1000)"
   ]
  },
  {
   "cell_type": "code",
   "execution_count": null,
   "metadata": {
    "ExecuteTime": {
     "end_time": "2017-08-28T05:49:50.752661Z",
     "start_time": "2017-08-28T05:49:49.555973Z"
    },
    "collapsed": false
   },
   "outputs": [],
   "source": [
    "# plot the results\n",
    "\n",
    "fig = plt.figure(figsize=(12,5)); ax = fig.gca()\n",
    "plot_gp_dist(ax, pred_samples[\"f_pred\"], X_new);\n",
    "plt.plot(X, f_true, \"dodgerblue\", lw=3, label=\"True f\");\n",
    "plt.plot(X, y, 'ok', ms=3, alpha=0.5, label=\"Observed data\");\n",
    "plt.xlabel(\"X\"); plt.ylabel(\"True f(x)\");\n",
    "plt.title(\"Conditional distribution of f_*, given f\"); plt.legend();"
   ]
  },
  {
   "cell_type": "markdown",
   "metadata": {},
   "source": [
    "## Example 2: Classification\n",
    "\n",
    "First we use a GP to generate some data that follows a Bernoulli distribution, where $p$, the probability of a one instead of a zero is a function of $x$. "
   ]
  },
  {
   "cell_type": "code",
   "execution_count": null,
   "metadata": {
    "ExecuteTime": {
     "end_time": "2017-08-28T05:49:52.127506Z",
     "start_time": "2017-08-28T05:49:50.754522Z"
    },
    "collapsed": true
   },
   "outputs": [],
   "source": [
    "np.random.seed(1)\n",
    "\n",
    "# number of data points\n",
    "n = 200\n",
    "\n",
    "# x locations\n",
    "x = np.linspace(0, 1.5, n)\n",
    "\n",
    "# true covariance\n",
    "ℓ_true = 0.1\n",
    "η_true = 1.0\n",
    "cov_func = η_true**2 * pm.gp.cov.ExpQuad(1, ℓ_true)\n",
    "K = cov_func(x[:,None]).eval()\n",
    "\n",
    "# zero mean function\n",
    "mean = np.zeros(n)\n",
    "\n",
    "# sample from the gp prior\n",
    "f_true = np.random.multivariate_normal(mean, K + 1e-6 * np.eye(n), 1).flatten()\n",
    "\n",
    "# link function\n",
    "def invlogit(x, eps=sys.float_info.epsilon):\n",
    "    return (1.0 + 2.0 * eps) / (1.0 + np.exp(-x)) + eps\n",
    "\n",
    "y = pm.Bernoulli.dist(p=invlogit(f_true)).random()"
   ]
  },
  {
   "cell_type": "code",
   "execution_count": null,
   "metadata": {
    "ExecuteTime": {
     "end_time": "2017-08-28T05:49:52.453288Z",
     "start_time": "2017-08-28T05:49:52.130511Z"
    },
    "collapsed": false
   },
   "outputs": [],
   "source": [
    "fig = plt.figure(figsize=(12,5)); ax = fig.gca()\n",
    "ax.plot(x, invlogit(f_true), 'dodgerblue', lw=3, label=\"True rate\");\n",
    "ax.plot(x, y + np.random.randn(n)*0.01, 'ko', ms=3, label=\"Observed data\");\n",
    "ax.set_xlabel(\"X\"); ax.set_ylabel(\"y\"); plt.legend();"
   ]
  },
  {
   "cell_type": "code",
   "execution_count": null,
   "metadata": {
    "ExecuteTime": {
     "end_time": "2017-08-28T05:57:46.095641Z",
     "start_time": "2017-08-28T05:49:52.455076Z"
    },
    "collapsed": false
   },
   "outputs": [],
   "source": [
    "with pm.Model() as model:\n",
    "    # covariance function\n",
    "    ℓ = pm.Gamma(\"ℓ\", alpha=2, beta=2)\n",
    "    # informative, positive normal prior on the period \n",
    "    η = pm.HalfNormal(\"η\", sd=5)\n",
    "    cov = η**2 * pm.gp.cov.ExpQuad(1, ℓ)\n",
    "    \n",
    "    gp = pm.gp.Latent(cov_func=cov)\n",
    "    \n",
    "    # make gp prior\n",
    "    f = gp.prior(\"f\", X=x[:,None])\n",
    "    \n",
    "    # logit link and Bernoulli likelihood\n",
    "    p = pm.Deterministic(\"p\", pm.math.invlogit(f))\n",
    "    y_ = pm.Bernoulli(\"y\", p=p, observed=y)\n",
    "    \n",
    "    trace = pm.sample(1000)"
   ]
  },
  {
   "cell_type": "code",
   "execution_count": null,
   "metadata": {
    "ExecuteTime": {
     "end_time": "2017-08-28T05:57:54.079723Z",
     "start_time": "2017-08-28T05:57:46.127940Z"
    },
    "collapsed": false
   },
   "outputs": [],
   "source": [
    "pm.traceplot(trace, lines={\"ℓ\": ℓ_true, \"η\": η_true});"
   ]
  },
  {
   "cell_type": "code",
   "execution_count": null,
   "metadata": {
    "ExecuteTime": {
     "end_time": "2017-08-28T05:58:12.840482Z",
     "start_time": "2017-08-28T05:57:54.082911Z"
    },
    "collapsed": false
   },
   "outputs": [],
   "source": [
    "n_pred = 200\n",
    "X_new = np.linspace(0, 2.0, n_pred)[:,None]\n",
    "\n",
    "with model:\n",
    "    f_pred = gp.conditional(\"f_pred\", X_new)\n",
    "\n",
    "with model:\n",
    "    pred_samples = pm.sample_posterior_predictive(trace, vars=[f_pred], samples=1000)"
   ]
  },
  {
   "cell_type": "code",
   "execution_count": null,
   "metadata": {
    "ExecuteTime": {
     "end_time": "2017-08-28T05:58:14.395655Z",
     "start_time": "2017-08-28T05:58:12.866843Z"
    },
    "collapsed": false
   },
   "outputs": [],
   "source": [
    "# plot the results\n",
    "fig = plt.figure(figsize=(12,5)); ax = fig.gca()\n",
    "\n",
    "# plot the samples from the gp posterior with samples and shading\n",
    "plot_gp_dist(ax, invlogit(trace[\"f\"]), x);\n",
    "\n",
    "# plot the data (with some jitter) and the true latent function\n",
    "plt.plot(x, invlogit(f_true), \"dodgerblue\", lw=3, label=\"True f\");\n",
    "plt.plot(x, y + np.random.randn(y.shape[0])*0.01, 'ok', ms=3, alpha=0.5, label=\"Observed data\");\n",
    "\n",
    "# axis labels and title\n",
    "plt.xlabel(\"X\"); plt.ylabel(\"True f(x)\"); \n",
    "plt.title(\"Posterior distribution over $f(x)$ at the observed values\"); plt.legend();"
   ]
  }
 ],
 "metadata": {
  "anaconda-cloud": {},
  "kernelspec": {
   "display_name": "Python 3",
   "language": "python",
   "name": "python3"
  },
  "language_info": {
   "codemirror_mode": {
    "name": "ipython",
    "version": 3
   },
   "file_extension": ".py",
   "mimetype": "text/x-python",
   "name": "python",
   "nbconvert_exporter": "python",
   "pygments_lexer": "ipython3",
   "version": "3.6.6"
  }
 },
 "nbformat": 4,
 "nbformat_minor": 2
}
