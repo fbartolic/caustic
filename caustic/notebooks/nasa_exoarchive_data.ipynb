{
 "cells": [
  {
   "cell_type": "code",
   "execution_count": 22,
   "metadata": {},
   "outputs": [],
   "source": [
    "import numpy as np\n",
    "from matplotlib import pyplot as plt\n",
    "import matplotlib as mpl\n",
    "import os, random\n",
    "import sys\n",
    "sys.path.append('../')\n",
    "from astropy.table import Table\n",
    "import pandas as pd\n",
    "import astropy\n",
    "\n",
    "from data import *\n",
    "from astropy.coordinates import SkyCoord\n",
    "\n",
    "random.seed(42)"
   ]
  },
  {
   "cell_type": "code",
   "execution_count": 26,
   "metadata": {},
   "outputs": [],
   "source": [
    "event_dir = '../data/OB05086/'\n",
    "event = Data()\n",
    "t = Table.read(event_dir + 'phot.dat', format='ascii', names=('HJD', 'mag', 'mag_err'))\n",
    "t['HJD'] = t['HJD'] + 2450000\n",
    "t.meta = {'observatory':'OGLE', 'filter':'I'}\n",
    "event.tables.append(t)\n",
    "event.coordinates = SkyCoord(\"18h04m45.71s\", \"-26d59m15.2s\")\n",
    "event.event_name = 'OGLE-2005-BLG-086'\n",
    "event.units = 'magnitudes'"
   ]
  },
  {
   "cell_type": "code",
   "execution_count": 27,
   "metadata": {},
   "outputs": [],
   "source": [
    "fig, ax = plt.subplots(figsize=(15,5))\n",
    "event.plot(ax)"
   ]
  },
  {
   "cell_type": "code",
   "execution_count": null,
   "metadata": {},
   "outputs": [],
   "source": []
  }
 ],
 "metadata": {
  "kernelspec": {
   "display_name": "Python (pymc3_env)",
   "language": "python",
   "name": "pymc3_env"
  },
  "language_info": {
   "codemirror_mode": {
    "name": "ipython",
    "version": 3
   },
   "file_extension": ".py",
   "mimetype": "text/x-python",
   "name": "python",
   "nbconvert_exporter": "python",
   "pygments_lexer": "ipython3",
   "version": "3.6.8"
  }
 },
 "nbformat": 4,
 "nbformat_minor": 2
}
