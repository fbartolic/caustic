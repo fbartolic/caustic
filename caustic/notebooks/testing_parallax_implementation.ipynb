{
 "cells": [
  {
   "cell_type": "code",
   "execution_count": 1,
   "metadata": {},
   "outputs": [],
   "source": [
    "import numpy as np\n",
    "from matplotlib import pyplot as plt\n",
    "import matplotlib as mpl\n",
    "import os, random\n",
    "import sys\n",
    "sys.path.append('../')\n",
    "import astropy\n",
    "\n",
    "from data import KMTData\n",
    "from data import OGLEData\n",
    "\n",
    "random.seed(42)"
   ]
  },
  {
   "cell_type": "code",
   "execution_count": null,
   "metadata": {},
   "outputs": [],
   "source": [
    "event = OGLEData('/home/fran/data/OGLE_ews/2017/blg-0525')\n",
    "fig, ax = plt.subplots(figsize=(25, 10))\n",
    "event.remove_worst_outliers(window_size=11, mad_cutoff=7)\n",
    "event.plot(ax)"
   ]
  },
  {
   "cell_type": "markdown",
   "metadata": {},
   "source": [
    "# Query JPL horizons and get Eath's orbital elements for each $t_i$\n"
   ]
  },
  {
   "cell_type": "code",
   "execution_count": null,
   "metadata": {},
   "outputs": [],
   "source": [
    "from astroquery.jplhorizons import Horizons\n",
    "from astropy.time import Time\n",
    "from astropy import units as u\n",
    "\n",
    "start = Time(event.tables[0]['HJD'][0], format='jd')\n",
    "stop = Time(event.tables[0]['HJD'][-1], format='jd')\n",
    "\n",
    "epochs={'start':start.iso[:10], 'stop':stop.iso[:10], 'step':'6h'}\n",
    "obj = Horizons(id='399', id_type='id', epochs=epochs)"
   ]
  },
  {
   "cell_type": "code",
   "execution_count": null,
   "metadata": {},
   "outputs": [],
   "source": [
    "elements = obj.elements()\n",
    "elements"
   ]
  },
  {
   "cell_type": "code",
   "execution_count": null,
   "metadata": {},
   "outputs": [],
   "source": [
    "def equatorial_to_ecliptic_coordinates(coordinates, obs_time):\n",
    "    # Earth's obliquity angle\n",
    "    T = (obs_time - 2451545)/365.25/100 # julian centuries since J2000\n",
    "    eps = 23.439279 - (46.815/60**2)*T\n",
    "    R = np.array([[1, 0, 0],\n",
    "                   [0, np.cos(eps), np.sin(eps)],\n",
    "                   [0, -np.sin(eps), np.cos(eps)]])\n",
    "    \n",
    "    ra = coordinates.ra.to(u.rad).value\n",
    "    dec = coordinates.dec.to(u.rad).value\n",
    "    coord_ec_cartesian = np.array([np.cos(ra)*np.cos(dec),\n",
    "                                   np.sin(ra)*np.cos(dec),\n",
    "                                   np.sin(dec)])\n",
    "    \n",
    "    # Transformation between equatorial and ecliptical coordinates\n",
    "    coord_eq_cartesian = R @ coord_ec_cartesian[:, np.newaxis]\n",
    "    \n",
    "    b = np.arcsin(coord_eq_cartesian[2])\n",
    "    l = 2*np.arctan(coord_eq_cartesian[1]/(np.cos(b) + coord_eq_cartesian[0]))\n",
    "    \n",
    "    return {'l':l, 'b':b}\n"
   ]
  },
  {
   "cell_type": "markdown",
   "metadata": {},
   "source": [
    "# Calculate $\\gamma_n(t)$ and $\\gamma_w(t)$"
   ]
  },
  {
   "cell_type": "code",
   "execution_count": null,
   "metadata": {},
   "outputs": [],
   "source": [
    "event_ecl_coord = equatorial_to_ecliptic_coordinates(event.coordinates, 0.5*(event.tables[0]['HJD'][0] + event.tables[0]['HJD'][-1]))\n",
    "lambda_0  = event_ecl_coord['l']\n",
    "beta_0  = event_ecl_coord['b']\n",
    "\n",
    "t = np.array(elements['datetime_jd']) # JD\n",
    "e = np.array(elements['e'])*0\n",
    "tp = np.array(elements['Tp_jd']) # JD\n",
    "n = (2*np.pi/365.25) # mean motion\n",
    "Phi_gamma = (77.86)*np.pi/180 # true anomaly at vernal eq. on J2000\n",
    "r_sun = 1 - e*np.cos(n*(t - tp)) # to 1st order in e\n",
    "lambda_sun = n*(t - tp) - Phi_gamma + 2*e*np.sin(n*(t - tp)) # to 1st order in e\n",
    "\n",
    "gamma_w = r_sun*np.sin((lambda_sun - lambda_0))\n",
    "gamma_n = r_sun*np.sin(beta_0)*np.cos(lambda_sun - lambda_0)\n",
    "\n",
    "gamma_w_dot = n*((1 + e*np.cos(n*(t - tp)))*np.cos(lambda_sun - lambda_0)+\\\n",
    "    e*np.sin(n*(t - tp))*np.sin(lambda_sun - lambda_0))\n",
    "gamma_n_dot = -n*np.sin(beta_0)*((1 + e*np.cos(n*(t - tp)))*np.sin(lambda_sun - lambda_0) -\\\n",
    "    e*np.sin(n*(t - tp))*np.cos(lambda_sun - lambda_0))\n",
    "\n",
    "gamma_w_ddot = -n**2*(1 + 2*e*np.cos(n*(t - tp)))*np.sin(lambda_sun - lambda_0)\n",
    "gamma_n_ddot = -n**2*np.sin(beta_0)*(1 + 2*e*np.cos(n*(t - tp)))*np.cos(lambda_sun - lambda_0)"
   ]
  },
  {
   "cell_type": "code",
   "execution_count": null,
   "metadata": {},
   "outputs": [],
   "source": [
    "fig, ax = plt.subplots(3,1, figsize=(25, 10), sharex=True)\n",
    "fig.subplots_adjust(hspace=0.02)\n",
    "ax[0].plot(t, gamma_w, 'C0', label='gamma_w')\n",
    "ax[0].plot(t, gamma_n, 'C1', label='gamma_n')\n",
    "ax[1].plot(t, gamma_w_dot, 'C0', label='gamma_w_dot')\n",
    "ax[1].plot(t, gamma_n_dot, 'C1', label='gamma_n_dot')\n",
    "ax[2].plot(t, gamma_w_ddot, 'C0', label='gamma_w_ddot')\n",
    "ax[2].plot(t, gamma_n_ddot, 'C1', label='gamma_n_ddot')\n",
    "ax[2].set_xlabel('JD')\n",
    "for a in ax.ravel():\n",
    "    a.grid()"
   ]
  },
  {
   "cell_type": "code",
   "execution_count": null,
   "metadata": {},
   "outputs": [],
   "source": [
    "np.interp(event.tables[0]['HJD'], t, gamma_w)"
   ]
  },
  {
   "cell_type": "code",
   "execution_count": null,
   "metadata": {},
   "outputs": [],
   "source": [
    "plt.plot(event.tables[0]['HJD'], np.interp(event.tables[0]['HJD'], t, gamma_w_ddot))"
   ]
  },
  {
   "cell_type": "markdown",
   "metadata": {},
   "source": [
    "# Interpolation in PyMC3"
   ]
  },
  {
   "cell_type": "code",
   "execution_count": null,
   "metadata": {},
   "outputs": [],
   "source": [
    "import exoplanet as xo\n",
    "\n",
    "x = t\n",
    "points = [x]\n",
    "values = gamma_w\n",
    "\n",
    "print(len(points[0]))\n",
    "print(len(values))\n",
    "print(type(points[0]))\n",
    "print(type(values))\n",
    "print(np.shape(points))\n",
    "print(np.shape(values))\n",
    "print(points)\n",
    "print(values)\n",
    "\n",
    "# x = np.sort(np.random.uniform(-5, 5, 25))\n",
    "# points = [x]\n",
    "# values = x**3-x**2\n",
    "interpolator = xo.interp.RegularGridInterpolator(points, values[:, None])\n",
    "x_ = np.linspace(2457400, 2457600, 1000)\n",
    "print(interpolator.evaluate(x_[:, None]).eval()[:10])\n",
    "\n",
    "# plt.plot(x_, interpolator.evaluate(x_[:, None]).eval(), label=\"interpolation\")\n",
    "# plt.plot(x, values, \"o\", label=\"control points\")\n",
    "# plt.xlabel(\"x\")\n",
    "# plt.ylabel(\"y\")\n",
    "# plt.legend(fontsize=12);"
   ]
  },
  {
   "cell_type": "code",
   "execution_count": null,
   "metadata": {},
   "outputs": [],
   "source": [
    "with pm.Model() as model:\n",
    "\n",
    "    # The value passed into the interpolator must have the shape\n",
    "    # (ntest, ndim), but in our case that is (1, 1)\n",
    "    xval = pm.Uniform(\"x\", lower=-8, upper=8, shape=(1, 1))\n",
    "\n",
    "    # Evaluate the interpolated model and extract the scalar value\n",
    "    # we want\n",
    "    mod = pm.Deterministic(\"y\", interpolator.evaluate(xval)[0, 0])\n",
    "\n",
    "    # The usual likelihood\n",
    "    pm.Normal(\"obs\", mu=mod, sd=data_sd, observed=data_mu)\n",
    "\n",
    "    # Sampling!\n",
    "    trace = pm.sample(draws=1000, tune=2000, step_kwargs=dict(target_accept=0.9))"
   ]
  },
  {
   "cell_type": "markdown",
   "metadata": {},
   "source": [
    "# Alternative parametrization for parallax"
   ]
  },
  {
   "cell_type": "code",
   "execution_count": 2,
   "metadata": {},
   "outputs": [],
   "source": [
    "from sympy import *\n",
    "init_printing(use_unicode=False, wrap_line=True)"
   ]
  },
  {
   "cell_type": "code",
   "execution_count": 37,
   "metadata": {},
   "outputs": [],
   "source": [
    "t0p, t0, u0, omegaE, piE, theta, gamma_w, gamma_n,\\\n",
    "    gamma_w_dot, gamma_n_dot, gamma_w_ddot, gamma_n_ddot =\\\n",
    "    symbols(r\"t'_0 t_0 u_0 \\omega_E, \\pi_E \\theta \\gamma_w \\gamma_n \\dot{\\gamma}_w \\dot{\\gamma}_n \\ddot{\\gamma}_w \\ddot{\\gamma}_n\",\n",
    "    real=True)\n",
    "\n",
    "u0p, v0p, ap, av = symbols(r\"u'_o v'_0 a_\\parallel a_\\bot\", real=True)"
   ]
  },
  {
   "cell_type": "code",
   "execution_count": 38,
   "metadata": {},
   "outputs": [],
   "source": [
    "up = -(t0p - t0)*omegaE + piE*(cos(theta)*gamma_w-sin(theta)*gamma_n)\n",
    "uv = u0 + piE*(sin(theta)*gamma_w-cos(theta)*gamma_n)\n",
    "up_dot = -omegaE + piE*(cos(theta)*gamma_w_dot - sin(theta)*gamma_n_dot)\n",
    "uv_dot =  piE*(sin(theta)*gamma_w_dot + cos(theta)*gamma_n_dot)\n",
    "up_ddot =  piE*(cos(theta)*gamma_w_ddot - sin(theta)*gamma_n_ddot)\n",
    "uv_ddot =  piE*(sin(theta)*gamma_w_ddot + cos(theta)*gamma_n_ddot)"
   ]
  },
  {
   "cell_type": "code",
   "execution_count": 46,
   "metadata": {},
   "outputs": [
    {
     "data": {
      "image/png": "[encoded data removed]",
      "text/latex": [
       "$\\displaystyle \\sqrt{\\left(\\omega_E \\left(t'_{0} - t_{0}\\right) + \\pi_E \\left(\\gamma_n \\sin{\\left(\\theta \\right)} - \\gamma_w \\cos{\\left(\\theta \\right)}\\right)\\right)^{2} + \\left(\\pi_E \\left(\\gamma_n \\cos{\\left(\\theta \\right)} - \\gamma_w \\sin{\\left(\\theta \\right)}\\right) - u_{0}\\right)^{2}}$"
      ],
      "text/plain": [
       "   ___________________________________________________________________________\n",
       "  /                                                                           \n",
       "\\/  (\\omega_E*(t'_0 - t_0) + \\pi_E*(\\gamma_n*sin(\\theta) - \\gamma_w*cos(\\theta\n",
       "\n",
       "____________________________________________________________________\n",
       "   2                                                              2 \n",
       ")))  + (\\pi_E*(\\gamma_n*cos(\\theta) - \\gamma_w*sin(\\theta)) - u_0)  "
      ]
     },
     "execution_count": 46,
     "metadata": {},
     "output_type": "execute_result"
    }
   ],
   "source": [
    "u = simplify(sqrt(up**2 + uv**2))\n",
    "u"
   ]
  },
  {
   "cell_type": "code",
   "execution_count": 40,
   "metadata": {},
   "outputs": [
    {
     "data": {
      "image/png": "[encoded data removed]",
      "text/latex": [
       "$\\displaystyle \\sqrt{\\dot{\\gamma}_n^{2} \\pi_E^{2} + 2 \\dot{\\gamma}_n \\omega_E \\pi_E \\sin{\\left(\\theta \\right)} + \\dot{\\gamma}_w^{2} \\pi_E^{2} - 2 \\dot{\\gamma}_w \\omega_E \\pi_E \\cos{\\left(\\theta \\right)} + \\omega_E^{2}}$"
      ],
      "text/plain": [
       "   ___________________________________________________________________________\n",
       "  /               2      2                                                    \n",
       "\\/  \\dot{\\gamma}_n *\\pi_E  + 2*\\dot{\\gamma}_n*\\omega_E*\\pi_E*sin(\\theta) + \\do\n",
       "\n",
       "______________________________________________________________________________\n",
       "           2      2                                                         2 \n",
       "t{\\gamma}_w *\\pi_E  - 2*\\dot{\\gamma}_w*\\omega_E*\\pi_E*cos(\\theta) + \\omega_E  "
      ]
     },
     "execution_count": 40,
     "metadata": {},
     "output_type": "execute_result"
    }
   ],
   "source": [
    "u_dot = simplify(sqrt(up_dot**2 + uv_dot**2))\n",
    "u_dot"
   ]
  },
  {
   "cell_type": "code",
   "execution_count": 41,
   "metadata": {},
   "outputs": [
    {
     "data": {
      "image/png": "[encoded data removed]",
      "text/latex": [
       "$\\displaystyle \\sqrt{\\ddot{\\gamma}_n^{2} + \\ddot{\\gamma}_w^{2}} \\left|{\\pi_E}\\right|$"
      ],
      "text/plain": [
       "   _____________________________________        \n",
       "  /                2                  2         \n",
       "\\/  \\ddot{\\gamma}_n  + \\ddot{\\gamma}_w  *|\\pi_E|"
      ]
     },
     "execution_count": 41,
     "metadata": {},
     "output_type": "execute_result"
    }
   ],
   "source": [
    "u_ddot = simplify(sqrt(up_ddot**2 + uv_ddot**2))\n",
    "u_ddot"
   ]
  },
  {
   "cell_type": "code",
   "execution_count": null,
   "metadata": {},
   "outputs": [],
   "source": []
  }
 ],
 "metadata": {
  "kernelspec": {
   "display_name": "pymc3_env",
   "language": "python",
   "name": "pymc3_env"
  },
  "language_info": {
   "codemirror_mode": {
    "name": "ipython",
    "version": 3
   },
   "file_extension": ".py",
   "mimetype": "text/x-python",
   "name": "python",
   "nbconvert_exporter": "python",
   "pygments_lexer": "ipython3",
   "version": "3.6.8"
  }
 },
 "nbformat": 4,
 "nbformat_minor": 2
}
