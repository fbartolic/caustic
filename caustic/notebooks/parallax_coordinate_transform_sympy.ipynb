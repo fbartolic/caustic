{
 "cells": [
  {
   "cell_type": "code",
   "execution_count": 1,
   "metadata": {},
   "outputs": [],
   "source": [
    "from sympy import *\n",
    "init_printing(use_unicode=False, wrap_line=True)"
   ]
  },
  {
   "cell_type": "markdown",
   "metadata": {},
   "source": [
    "# Compute derivatives of $\\gamma$"
   ]
  },
  {
   "cell_type": "code",
   "execution_count": 8,
   "metadata": {},
   "outputs": [
    {
     "data": {
      "image/png": "[encoded data removed]",
      "text/latex": [
       "$\\displaystyle - e \\cos{\\left(n \\left(t - t_{p}\\right) \\right)} + 1$"
      ],
      "text/plain": [
       "-e*cos(n*(t - t_p)) + 1"
      ]
     },
     "execution_count": 8,
     "metadata": {},
     "output_type": "execute_result"
    }
   ],
   "source": [
    "e, n, t, tp, Phi, lambda0, beta0 = symbols(r\"e n t t_p \\Phi_\\gamma \\lambda_0 \\beta_0\", real=True)\n",
    "r = 1 - e*cos(n*(t - tp))\n",
    "lambda_sun =  n*(t - tp) - Phi + 2*e*sin(n*(t - tp))\n",
    "r"
   ]
  },
  {
   "cell_type": "code",
   "execution_count": 39,
   "metadata": {},
   "outputs": [],
   "source": [
    "gamma_e_ = r*sin(lambda_sun - lambda0)\n",
    "gamma_n_ = -r*cos(lambda_sun - lambda0)*sin(beta0)"
   ]
  },
  {
   "cell_type": "code",
   "execution_count": 40,
   "metadata": {},
   "outputs": [
    {
     "data": {
      "image/png": "[encoded data removed]",
      "text/latex": [
       "$\\displaystyle e n \\cos{\\left(\\Phi_\\gamma + \\lambda_0 - 2 n t + 2 n t_{p} \\right)} + n \\cos{\\left(\\Phi_\\gamma + \\lambda_0 - n t + n t_{p} \\right)}$"
      ],
      "text/plain": [
       "e*n*cos(\\Phi_\\gamma + \\lambda_0 - 2*n*t + 2*n*t_p) + n*cos(\\Phi_\\gamma + \\lamb\n",
       "da_0 - n*t + n*t_p)"
      ]
     },
     "execution_count": 40,
     "metadata": {},
     "output_type": "execute_result"
    }
   ],
   "source": [
    "gamma_e_dot_ = simplify(series(diff(gamma_e_, t), e, 0, n=2)).removeO()\n",
    "gamma_e_dot_"
   ]
  },
  {
   "cell_type": "code",
   "execution_count": 49,
   "metadata": {},
   "outputs": [
    {
     "name": "stdout",
     "output_type": "stream",
     "text": [
      "e*n*cos(\\Phi_\\gamma + \\lambda_0 - 2*n*t + 2*n*t_p) + n*cos(\\Phi_\\gamma + \\lambda_0 - n*t + n*t_p)\n"
     ]
    }
   ],
   "source": [
    "print(gamma_e_dot_)"
   ]
  },
  {
   "cell_type": "code",
   "execution_count": 44,
   "metadata": {},
   "outputs": [
    {
     "data": {
      "image/png": "[encoded data removed]",
      "text/latex": [
       "$\\displaystyle - (n \\sin{\\left(\\beta_0 \\right)} \\sin{\\left(\\Phi_\\gamma + \\lambda_0 - n t + n t_{p} \\right)} + e n \\sin{\\left(\\beta_0 \\right)} \\sin{\\left(\\Phi_\\gamma + \\lambda_0 - 2 n t + 2 n t_{p} \\right)} + O\\left(e^{2}\\right))$"
      ],
      "text/plain": [
       " /                                                                            \n",
       "-\\n*sin(\\beta_0)*sin(\\Phi_\\gamma + \\lambda_0 - n*t + n*t_p) + e*n*sin(\\beta_0)\n",
       "\n",
       "                                                   / 2\\\\\n",
       "*sin(\\Phi_\\gamma + \\lambda_0 - 2*n*t + 2*n*t_p) + O\\e //"
      ]
     },
     "execution_count": 44,
     "metadata": {},
     "output_type": "execute_result"
    }
   ],
   "source": [
    "gamma_n_dot_ = simplify(series(diff(gamma_n_, t), e, 0, n=2)).removeO()\n",
    "gamma_n_dot_"
   ]
  },
  {
   "cell_type": "code",
   "execution_count": 51,
   "metadata": {},
   "outputs": [
    {
     "name": "stdout",
     "output_type": "stream",
     "text": [
      "-(n*sin(\\beta_0)*sin(\\Phi_\\gamma + \\lambda_0 - n*t + n*t_p) + e*n*sin(\\beta_0)*sin(\\Phi_\\gamma + \\lambda_0 - 2*n*t + 2*n*t_p) + O(e**2))\n"
     ]
    }
   ],
   "source": [
    "print(gamma_n_dot_)"
   ]
  },
  {
   "cell_type": "code",
   "execution_count": 46,
   "metadata": {},
   "outputs": [
    {
     "data": {
      "image/png": "[encoded data removed]",
      "text/latex": [
       "$\\displaystyle n^{2} \\left(2 e \\sin{\\left(\\Phi_\\gamma + \\lambda_0 - 2 n t + 2 n t_{p} \\right)} + \\sin{\\left(\\Phi_\\gamma + \\lambda_0 - n t + n t_{p} \\right)}\\right)$"
      ],
      "text/plain": [
       " 2                                                                            \n",
       "n *(2*e*sin(\\Phi_\\gamma + \\lambda_0 - 2*n*t + 2*n*t_p) + sin(\\Phi_\\gamma + \\la\n",
       "\n",
       "                      \n",
       "mbda_0 - n*t + n*t_p))"
      ]
     },
     "execution_count": 46,
     "metadata": {},
     "output_type": "execute_result"
    }
   ],
   "source": [
    "gamma_e_ddot_ = simplify(series(diff(gamma_e_dot_, t), e, 0, n=2))\n",
    "gamma_e_ddot_"
   ]
  },
  {
   "cell_type": "code",
   "execution_count": 52,
   "metadata": {},
   "outputs": [
    {
     "name": "stdout",
     "output_type": "stream",
     "text": [
      "n**2*(2*e*sin(\\Phi_\\gamma + \\lambda_0 - 2*n*t + 2*n*t_p) + sin(\\Phi_\\gamma + \\lambda_0 - n*t + n*t_p))\n"
     ]
    }
   ],
   "source": [
    "print(gamma_e_ddot_)"
   ]
  },
  {
   "cell_type": "code",
   "execution_count": 48,
   "metadata": {},
   "outputs": [
    {
     "data": {
      "image/png": "[encoded data removed]",
      "text/latex": [
       "$\\displaystyle n^{2} \\left(2 e \\cos{\\left(\\Phi_\\gamma + \\lambda_0 - 2 n t + 2 n t_{p} \\right)} + \\cos{\\left(\\Phi_\\gamma + \\lambda_0 - n t + n t_{p} \\right)}\\right) \\sin{\\left(\\beta_0 \\right)}$"
      ],
      "text/plain": [
       " 2                                                                            \n",
       "n *(2*e*cos(\\Phi_\\gamma + \\lambda_0 - 2*n*t + 2*n*t_p) + cos(\\Phi_\\gamma + \\la\n",
       "\n",
       "                                   \n",
       "mbda_0 - n*t + n*t_p))*sin(\\beta_0)"
      ]
     },
     "execution_count": 48,
     "metadata": {},
     "output_type": "execute_result"
    }
   ],
   "source": [
    "gamma_n_ddot_ = simplify(series(diff(gamma_n_dot_, t), e, 0, n=2))\n",
    "gamma_n_ddot_"
   ]
  },
  {
   "cell_type": "code",
   "execution_count": 53,
   "metadata": {},
   "outputs": [
    {
     "name": "stdout",
     "output_type": "stream",
     "text": [
      "n**2*(2*e*cos(\\Phi_\\gamma + \\lambda_0 - 2*n*t + 2*n*t_p) + cos(\\Phi_\\gamma + \\lambda_0 - n*t + n*t_p))*sin(\\beta_0)\n"
     ]
    }
   ],
   "source": [
    "print(gamma_n_ddot_)"
   ]
  },
  {
   "cell_type": "markdown",
   "metadata": {},
   "source": [
    "# Martin's parametrization"
   ]
  },
  {
   "cell_type": "code",
   "execution_count": 2,
   "metadata": {},
   "outputs": [],
   "source": [
    "t0p, t0, u0, omegaE, piE, theta, gamma_e, gamma_n,\\\n",
    "    gamma_e_dot, gamma_n_dot, gamma_e_ddot, gamma_n_ddot =\\\n",
    "    symbols(r\"t'_0 t_0 u_0 \\omega_E, \\pi_E \\theta \\gamma_e \\gamma_n \\dot{\\gamma}_e \\dot{\\gamma}_n \\ddot{\\gamma}_e \\ddot{\\gamma}_n\",\n",
    "    real=True)\n",
    "\n",
    "u0p, v0p, ap, av = symbols(r\"u'_o v'_0 a_\\parallel a_\\bot\", real=True)"
   ]
  },
  {
   "cell_type": "code",
   "execution_count": null,
   "metadata": {},
   "outputs": [],
   "source": [
    "eq1 = a"
   ]
  },
  {
   "cell_type": "code",
   "execution_count": 3,
   "metadata": {},
   "outputs": [],
   "source": [
    "up = -(t0p - t0)*omegaE + piE*(cos(theta)*gamma_e - sin(theta)*gamma_n)\n",
    "uv = u0 + piE*(sin(theta)*gamma_e-cos(theta)*gamma_n)\n",
    "up_dot = -omegaE + piE*(cos(theta)*gamma_e_dot - sin(theta)*gamma_n_dot)\n",
    "uv_dot =  piE*(sin(theta)*gamma_e_dot + cos(theta)*gamma_n_dot)\n",
    "up_ddot =  piE*(cos(theta)*gamma_e_ddot - sin(theta)*gamma_n_ddot)\n",
    "uv_ddot =  piE*(sin(theta)*gamma_e_ddot + cos(theta)*gamma_n_ddot)"
   ]
  },
  {
   "cell_type": "code",
   "execution_count": 4,
   "metadata": {},
   "outputs": [
    {
     "data": {
      "image/png": "[encoded data removed]",
      "text/latex": [
       "$\\displaystyle \\sqrt{\\left(\\omega_E \\left(t'_{0} - t_{0}\\right) - \\pi_E \\left(\\gamma_e \\cos{\\left(\\theta \\right)} - \\gamma_n \\sin{\\left(\\theta \\right)}\\right)\\right)^{2} + \\left(\\pi_E \\left(\\gamma_e \\sin{\\left(\\theta \\right)} - \\gamma_n \\cos{\\left(\\theta \\right)}\\right) + u_{0}\\right)^{2}}$"
      ],
      "text/plain": [
       "   ___________________________________________________________________________\n",
       "  /                                                                           \n",
       "\\/  (\\omega_E*(t'_0 - t_0) - \\pi_E*(\\gamma_e*cos(\\theta) - \\gamma_n*sin(\\theta\n",
       "\n",
       "____________________________________________________________________\n",
       "   2                                                              2 \n",
       ")))  + (\\pi_E*(\\gamma_e*sin(\\theta) - \\gamma_n*cos(\\theta)) + u_0)  "
      ]
     },
     "execution_count": 4,
     "metadata": {},
     "output_type": "execute_result"
    }
   ],
   "source": [
    "u = simplify(sqrt(up**2 + uv**2))\n",
    "u"
   ]
  },
  {
   "cell_type": "code",
   "execution_count": 5,
   "metadata": {},
   "outputs": [
    {
     "data": {
      "image/png": "[encoded data removed]",
      "text/latex": [
       "$\\displaystyle \\sqrt{\\dot{\\gamma}_e^{2} \\pi_E^{2} - 2 \\dot{\\gamma}_e \\omega_E \\pi_E \\cos{\\left(\\theta \\right)} + \\dot{\\gamma}_n^{2} \\pi_E^{2} + 2 \\dot{\\gamma}_n \\omega_E \\pi_E \\sin{\\left(\\theta \\right)} + \\omega_E^{2}}$"
      ],
      "text/plain": [
       "   ___________________________________________________________________________\n",
       "  /               2      2                                                    \n",
       "\\/  \\dot{\\gamma}_e *\\pi_E  - 2*\\dot{\\gamma}_e*\\omega_E*\\pi_E*cos(\\theta) + \\do\n",
       "\n",
       "______________________________________________________________________________\n",
       "           2      2                                                         2 \n",
       "t{\\gamma}_n *\\pi_E  + 2*\\dot{\\gamma}_n*\\omega_E*\\pi_E*sin(\\theta) + \\omega_E  "
      ]
     },
     "execution_count": 5,
     "metadata": {},
     "output_type": "execute_result"
    }
   ],
   "source": [
    "u_dot = simplify(sqrt(up_dot**2 + uv_dot**2))\n",
    "u_dot"
   ]
  },
  {
   "cell_type": "code",
   "execution_count": 6,
   "metadata": {},
   "outputs": [
    {
     "data": {
      "image/png": "[encoded data removed]",
      "text/latex": [
       "$\\displaystyle \\sqrt{\\ddot{\\gamma}_e^{2} + \\ddot{\\gamma}_n^{2}} \\left|{\\pi_E}\\right|$"
      ],
      "text/plain": [
       "   _____________________________________        \n",
       "  /                2                  2         \n",
       "\\/  \\ddot{\\gamma}_e  + \\ddot{\\gamma}_n  *|\\pi_E|"
      ]
     },
     "execution_count": 6,
     "metadata": {},
     "output_type": "execute_result"
    }
   ],
   "source": [
    "u_ddot = simplify(sqrt(up_ddot**2 + uv_ddot**2))\n",
    "u_ddot"
   ]
  }
 ],
 "metadata": {
  "kernelspec": {
   "display_name": "Python (pymc3_env)",
   "language": "python",
   "name": "pymc3_env"
  },
  "language_info": {
   "codemirror_mode": {
    "name": "ipython",
    "version": 3
   },
   "file_extension": ".py",
   "mimetype": "text/x-python",
   "name": "python",
   "nbconvert_exporter": "python",
   "pygments_lexer": "ipython3",
   "version": "3.6.8"
  }
 },
 "nbformat": 4,
 "nbformat_minor": 2
}
