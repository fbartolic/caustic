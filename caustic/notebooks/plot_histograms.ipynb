{
 "cells": [
  {
   "cell_type": "code",
   "execution_count": 3,
   "metadata": {},
   "outputs": [],
   "source": [
    "import numpy as np\n",
    "from matplotlib import pyplot as plt\n",
    "import os \n",
    "import sys\n",
    "sys.path.append('../')\n",
    "import pandas as pd"
   ]
  },
  {
   "cell_type": "code",
   "execution_count": 5,
   "metadata": {},
   "outputs": [],
   "source": [
    "df = pd.DataFrame( \n",
    "        columns=['name', 'mean', 'sd', 'mc_error', 'hpd_2.5', 'hpd_97.5', 'n_eff', 'Rhat'], dtype='float64')\n",
    "\n",
    "\n",
    "# Iterate over events, load data, and make plots \n",
    "for entry in os.scandir('output'):\n",
    "    if entry.is_dir():\n",
    "        data = pd.read_csv('output/' + entry.name + '/PointSourcePointLensWN3/sampling_stats.csv')\n",
    "        series = data.iloc[1, 1:]\n",
    "        series['name'] = entry.name\n",
    "        df = df.append(series, ignore_index=True)"
   ]
  },
  {
   "cell_type": "code",
   "execution_count": 6,
   "metadata": {},
   "outputs": [
    {
     "data": {
      "text/html": [
       "<div>\n",
       "<style>\n",
       "    .dataframe thead tr:only-child th {\n",
       "        text-align: right;\n",
       "    }\n",
       "\n",
       "    .dataframe thead th {\n",
       "        text-align: left;\n",
       "    }\n",
       "\n",
       "    .dataframe tbody tr th {\n",
       "        vertical-align: top;\n",
       "    }\n",
       "</style>\n",
       "<table border=\"1\" class=\"dataframe\">\n",
       "  <thead>\n",
       "    <tr style=\"text-align: right;\">\n",
       "      <th></th>\n",
       "      <th>name</th>\n",
       "      <th>mean</th>\n",
       "      <th>sd</th>\n",
       "      <th>mc_error</th>\n",
       "      <th>hpd_2.5</th>\n",
       "      <th>hpd_97.5</th>\n",
       "      <th>n_eff</th>\n",
       "      <th>Rhat</th>\n",
       "    </tr>\n",
       "  </thead>\n",
       "  <tbody>\n",
       "    <tr>\n",
       "      <th>0</th>\n",
       "      <td>OGLE-2017-BLG-1611</td>\n",
       "      <td>4.89</td>\n",
       "      <td>0.14</td>\n",
       "      <td>0.00</td>\n",
       "      <td>4.60</td>\n",
       "      <td>5.15</td>\n",
       "      <td>3772.54</td>\n",
       "      <td>1.0</td>\n",
       "    </tr>\n",
       "    <tr>\n",
       "      <th>1</th>\n",
       "      <td>OGLE-2017-BLG-0804</td>\n",
       "      <td>13.90</td>\n",
       "      <td>0.37</td>\n",
       "      <td>0.01</td>\n",
       "      <td>13.13</td>\n",
       "      <td>14.59</td>\n",
       "      <td>2879.19</td>\n",
       "      <td>1.0</td>\n",
       "    </tr>\n",
       "    <tr>\n",
       "      <th>2</th>\n",
       "      <td>OGLE-2017-BLG-1057</td>\n",
       "      <td>8.40</td>\n",
       "      <td>0.84</td>\n",
       "      <td>0.02</td>\n",
       "      <td>6.85</td>\n",
       "      <td>10.15</td>\n",
       "      <td>3572.58</td>\n",
       "      <td>1.0</td>\n",
       "    </tr>\n",
       "    <tr>\n",
       "      <th>3</th>\n",
       "      <td>OGLE-2017-BLG-0240</td>\n",
       "      <td>14.25</td>\n",
       "      <td>1.62</td>\n",
       "      <td>0.02</td>\n",
       "      <td>11.17</td>\n",
       "      <td>17.44</td>\n",
       "      <td>3471.05</td>\n",
       "      <td>1.0</td>\n",
       "    </tr>\n",
       "    <tr>\n",
       "      <th>4</th>\n",
       "      <td>OGLE-2017-BLG-0938</td>\n",
       "      <td>11.78</td>\n",
       "      <td>0.12</td>\n",
       "      <td>0.00</td>\n",
       "      <td>11.54</td>\n",
       "      <td>12.02</td>\n",
       "      <td>3853.06</td>\n",
       "      <td>1.0</td>\n",
       "    </tr>\n",
       "    <tr>\n",
       "      <th>5</th>\n",
       "      <td>OGLE-2017-BLG-1735</td>\n",
       "      <td>10.21</td>\n",
       "      <td>1.60</td>\n",
       "      <td>0.02</td>\n",
       "      <td>7.05</td>\n",
       "      <td>13.30</td>\n",
       "      <td>5118.61</td>\n",
       "      <td>1.0</td>\n",
       "    </tr>\n",
       "    <tr>\n",
       "      <th>6</th>\n",
       "      <td>OGLE-2017-BLG-1087</td>\n",
       "      <td>4.39</td>\n",
       "      <td>0.38</td>\n",
       "      <td>0.01</td>\n",
       "      <td>3.67</td>\n",
       "      <td>5.13</td>\n",
       "      <td>3992.52</td>\n",
       "      <td>1.0</td>\n",
       "    </tr>\n",
       "  </tbody>\n",
       "</table>\n",
       "</div>"
      ],
      "text/plain": [
       "                 name   mean    sd  mc_error  hpd_2.5  hpd_97.5    n_eff  Rhat\n",
       "0  OGLE-2017-BLG-1611   4.89  0.14      0.00     4.60      5.15  3772.54   1.0\n",
       "1  OGLE-2017-BLG-0804  13.90  0.37      0.01    13.13     14.59  2879.19   1.0\n",
       "2  OGLE-2017-BLG-1057   8.40  0.84      0.02     6.85     10.15  3572.58   1.0\n",
       "3  OGLE-2017-BLG-0240  14.25  1.62      0.02    11.17     17.44  3471.05   1.0\n",
       "4  OGLE-2017-BLG-0938  11.78  0.12      0.00    11.54     12.02  3853.06   1.0\n",
       "5  OGLE-2017-BLG-1735  10.21  1.60      0.02     7.05     13.30  5118.61   1.0\n",
       "6  OGLE-2017-BLG-1087   4.39  0.38      0.01     3.67      5.13  3992.52   1.0"
      ]
     },
     "execution_count": 6,
     "metadata": {},
     "output_type": "execute_result"
    }
   ],
   "source": [
    "df"
   ]
  },
  {
   "cell_type": "code",
   "execution_count": 14,
   "metadata": {},
   "outputs": [
    {
     "data": {
      "text/plain": [
       "Text(0.5, 0, 'mean Delta_F')"
      ]
     },
     "execution_count": 14,
     "metadata": {},
     "output_type": "execute_result"
    },
    {
     "data": {
      "image/png": "[encoded data removed]",
      "text/plain": [
       "<Figure size 432x288 with 1 Axes>"
      ]
     },
     "metadata": {
      "needs_background": "light"
     },
     "output_type": "display_data"
    }
   ],
   "source": [
    "ax = df['mean'].hist()\n",
    "ax.set_xlabel('mean Delta_F')"
   ]
  },
  {
   "cell_type": "code",
   "execution_count": 15,
   "metadata": {},
   "outputs": [
    {
     "data": {
      "text/plain": [
       "Text(0.5, 0, 'std Delta_F')"
      ]
     },
     "execution_count": 15,
     "metadata": {},
     "output_type": "execute_result"
    },
    {
     "data": {
      "image/png": "[encoded data removed]",
      "text/plain": [
       "<Figure size 432x288 with 1 Axes>"
      ]
     },
     "metadata": {
      "needs_background": "light"
     },
     "output_type": "display_data"
    }
   ],
   "source": [
    "ax = df['sd'].hist()\n",
    "ax.set_xlabel('std Delta_F')"
   ]
  },
  {
   "cell_type": "code",
   "execution_count": null,
   "metadata": {},
   "outputs": [],
   "source": []
  }
 ],
 "metadata": {
  "kernelspec": {
   "display_name": "Python 3",
   "language": "python",
   "name": "python3"
  },
  "language_info": {
   "codemirror_mode": {
    "name": "ipython",
    "version": 3
   },
   "file_extension": ".py",
   "mimetype": "text/x-python",
   "name": "python",
   "nbconvert_exporter": "python",
   "pygments_lexer": "ipython3",
   "version": "3.7.2"
  }
 },
 "nbformat": 4,
 "nbformat_minor": 2
}
